{
  "nbformat": 4,
  "nbformat_minor": 0,
  "metadata": {
    "colab": {
      "name": "1. Intro_NumPy.ipynb",
      "version": "0.3.2",
      "provenance": [],
      "private_outputs": true,
      "collapsed_sections": []
    },
    "kernelspec": {
      "name": "python3",
      "display_name": "Python 3"
    }
  },
  "cells": [
    {
      "metadata": {
        "id": "XjVhPCxK42if",
        "colab_type": "code",
        "colab": {}
      },
      "cell_type": "code",
      "source": [
        "# Import the numpy library\n",
        "# np is alias, and it is standard, but you can use other alias too\n",
        "import numpy as np"
      ],
      "execution_count": 0,
      "outputs": []
    },
    {
      "metadata": {
        "id": "5jgROkcm5lrX",
        "colab_type": "code",
        "colab": {}
      },
      "cell_type": "code",
      "source": [
        "array_1d = np.array([2,4,5,6,7,9])\n",
        "print (array_1d)\n",
        "print (type(array_1d))"
      ],
      "execution_count": 0,
      "outputs": []
    },
    {
      "metadata": {
        "id": "OXA9E2do6AnX",
        "colab_type": "code",
        "colab": {}
      },
      "cell_type": "code",
      "source": [
        "array_2d = np.array([[2,3,4],[5,8,7]])\n",
        "print(array_2d)\n",
        "print(type(array_2d))"
      ],
      "execution_count": 0,
      "outputs": []
    },
    {
      "metadata": {
        "id": "P6nxrfQD6nvX",
        "colab_type": "code",
        "colab": {}
      },
      "cell_type": "code",
      "source": [
        "#axes\n",
        "# axis = 0 => \n",
        "# axis = 1 => "
      ],
      "execution_count": 0,
      "outputs": []
    },
    {
      "metadata": {
        "id": "RWCuSjqe7AHO",
        "colab_type": "code",
        "colab": {}
      },
      "cell_type": "code",
      "source": [
        "# Difference between list and ndarray\n",
        "list_1 = [3,6,7,5]\n",
        "list_2=[4,5,1,7]\n",
        "# the list way to do it: map a function to the two lists\n",
        "product_list = list(map(lambda x, y: x*y, list_1, list_2))\n",
        "print (product_list)\n",
        "\n",
        "# The numpy array way to do it: simply multiply the two arrays. \n",
        "# Size should be equal for both arrays\n",
        "array_1 = np.array(list_1)\n",
        "array_2 = np.array(list_2)\n",
        "array_3 = array_1 * array_2\n",
        "print (array_3)\n",
        "print (type(array_3))"
      ],
      "execution_count": 0,
      "outputs": []
    },
    {
      "metadata": {
        "id": "hmQmie8n8ew2",
        "colab_type": "code",
        "colab": {}
      },
      "cell_type": "code",
      "source": [
        "# Square list vs array\n",
        "squared_list_1 = [i**2 for i in list_1]\n",
        "print(squared_list_1)\n",
        "\n",
        "squared_array_1 = array_1 ** 2\n",
        "print(squared_array_1)"
      ],
      "execution_count": 0,
      "outputs": []
    },
    {
      "metadata": {
        "id": "8Pgu2QAa9yMQ",
        "colab_type": "code",
        "colab": {}
      },
      "cell_type": "code",
      "source": [
        "array_from_list = np.array([3,4,5,6])\n",
        "array_from_tuple = np.array((1,2,3,4))\n",
        "print(array_from_list)\n",
        "print(array_from_tuple)"
      ],
      "execution_count": 0,
      "outputs": []
    },
    {
      "metadata": {
        "id": "fL9EjtjF-LS-",
        "colab_type": "code",
        "colab": {}
      },
      "cell_type": "code",
      "source": [
        "# NumPy shortcuts to create common arrays as and when required\n",
        "\n",
        "help(np.ones)"
      ],
      "execution_count": 0,
      "outputs": []
    },
    {
      "metadata": {
        "id": "r9LC55gh-iTC",
        "colab_type": "code",
        "colab": {}
      },
      "cell_type": "code",
      "source": [
        "# create Identity matrix for 5x3\n",
        "print(np.ones((5,3)))\n",
        "print(np.ones((5,3),dtype=np.int))"
      ],
      "execution_count": 0,
      "outputs": []
    },
    {
      "metadata": {
        "id": "Af7NhZfy-7kO",
        "colab_type": "code",
        "colab": {}
      },
      "cell_type": "code",
      "source": [
        "# create array of zeros\n",
        "\n",
        "np.zeros(4, dtype=np.int)\n",
        "\n",
        "# create an arry of random numbers\n",
        "np.random.random([3,4])\n",
        "\n",
        "numbers = np.arange(10,100, 5)\n",
        "print (numbers)\n",
        "\n",
        "np.linspace(15,18,25)"
      ],
      "execution_count": 0,
      "outputs": []
    },
    {
      "metadata": {
        "id": "4sUN7g35BWmH",
        "colab_type": "code",
        "colab": {}
      },
      "cell_type": "code",
      "source": [
        "# Initialise an array of random numbers of size 1000x300\n",
        "rand_array = np.random.random((1000,300))\n",
        "print(rand_array[0,]) # Print first row"
      ],
      "execution_count": 0,
      "outputs": []
    },
    {
      "metadata": {
        "id": "IGPbHjjXCJuI",
        "colab_type": "code",
        "colab": {}
      },
      "cell_type": "code",
      "source": [
        "# Creating a 3-d array\n",
        "# np.arange(24) will give numbers from 0 to 23 with step of 1.\n",
        "# reshape() simply reshapes a 1-D array\n",
        "array_3d = np.arange(24).reshape(2,3,4)\n",
        "print(array_3d)"
      ],
      "execution_count": 0,
      "outputs": []
    },
    {
      "metadata": {
        "id": "FdfKh4eYEbru",
        "colab_type": "text"
      },
      "cell_type": "markdown",
      "source": [
        "## Subset, Slice, Index and Iterate through Arrays"
      ]
    },
    {
      "metadata": {
        "id": "P6quWACzEgTV",
        "colab_type": "code",
        "colab": {}
      },
      "cell_type": "code",
      "source": [
        "# Indexing and slicing 1-d array\n",
        "array_1d = np.arange(10)\n",
        "print(array_1d)"
      ],
      "execution_count": 0,
      "outputs": []
    },
    {
      "metadata": {
        "id": "BwXEA5XNEqOF",
        "colab_type": "code",
        "colab": {}
      },
      "cell_type": "code",
      "source": [
        "# Third element\n",
        "print(array_1d[2])\n",
        "\n",
        "# Specific elements\n",
        "print(array_1d[[2,5,6]])\n",
        "\n",
        "# Slice 3rd element onwards\n",
        "print(array_1d[2:])\n",
        "\n",
        "# Slice first 3 elements\n",
        "print(array_1d[:3])\n",
        "\n",
        "# Slice third to seventh elements\n",
        "print(array_1d[2:7])\n",
        "\n",
        "# Subset starting 0 at increment of 2\n",
        "print(array_1d[0::2])"
      ],
      "execution_count": 0,
      "outputs": []
    },
    {
      "metadata": {
        "id": "QRV5vyUhFzyl",
        "colab_type": "code",
        "colab": {}
      },
      "cell_type": "code",
      "source": [
        "# Iterate through arrays\n",
        "\n",
        "for i in array_1d:\n",
        "  print(i**2)\n"
      ],
      "execution_count": 0,
      "outputs": []
    },
    {
      "metadata": {
        "id": "_g_Y_dokGLWV",
        "colab_type": "code",
        "colab": {}
      },
      "cell_type": "code",
      "source": [
        "array_2d = np.array([[2,5,7,5],[4,6,8,10],[10,12,15,19]])\n",
        "print(array_2d)"
      ],
      "execution_count": 0,
      "outputs": []
    },
    {
      "metadata": {
        "id": "RSk8-bl1Jh9N",
        "colab_type": "code",
        "colab": {}
      },
      "cell_type": "code",
      "source": [
        "print(array_2d[2,1]) # 3rd row 2nd column\n",
        "\n",
        "# Slicing second row, and all columns\n",
        "print(array_2d[1,:])\n",
        "print (type(array_2d[1,:]))\n",
        "\n",
        "# Slicing all rows and 3rd column\n",
        "print(array_2d[:,2])\n",
        "\n",
        "# Slicing all rows and first 3 columns\n",
        "print(array_2d[:, :3])\n",
        "\n",
        "# Picking first and 3rd row and all columns\n",
        "print(array_2d[[0,2],:])"
      ],
      "execution_count": 0,
      "outputs": []
    },
    {
      "metadata": {
        "id": "VYZpw6CILYtv",
        "colab_type": "code",
        "colab": {}
      },
      "cell_type": "code",
      "source": [
        "# Iterating over 2-d arrays\n",
        "for row in array_2d:\n",
        "  print(row)"
      ],
      "execution_count": 0,
      "outputs": []
    },
    {
      "metadata": {
        "id": "AW40kYRjMrAV",
        "colab_type": "text"
      },
      "cell_type": "markdown",
      "source": [
        "## Comparison between NumPy arrays and normal Python list"
      ]
    },
    {
      "metadata": {
        "id": "QKL3jT6aMx6l",
        "colab_type": "code",
        "colab": {}
      },
      "cell_type": "code",
      "source": [
        "# Comparing time taken for computation\n",
        "list_1 = [i for i in range(1000000)]\n",
        "list_2 = [i**2 for i in range(1000000)]\n",
        "\n",
        "# list multiplication\n",
        "import time\n",
        "\n",
        "# store start time, time after computation, and take the difference\n",
        "t0 = time.time()\n",
        "product_list = list(map(lambda x,y: x*y, list_1, list_2))\n",
        "t1 = time.time()\n",
        "list_time = t1-t0\n",
        "print (list_time)\n",
        "\n",
        "# Numpy arrays\n",
        "array_1 = np.array(list_1)\n",
        "array_2 = np.array(list_2)\n",
        "\n",
        "t2 = time.time()\n",
        "product_array = array_1 * array_2\n",
        "t3 = time.time()\n",
        "array_time = t3-t2\n",
        "print (array_time)\n",
        "\n",
        "print(\"The ratio of time taken is {}\".format(list_time/array_time))"
      ],
      "execution_count": 0,
      "outputs": []
    },
    {
      "metadata": {
        "id": "vtbOJDvIQFiO",
        "colab_type": "text"
      },
      "cell_type": "markdown",
      "source": [
        "## Operations on Numpy arrays"
      ]
    },
    {
      "metadata": {
        "id": "_2O3tEOQQVGk",
        "colab_type": "code",
        "colab": {}
      },
      "cell_type": "code",
      "source": [
        "array_1 = np.arange(0,12).reshape(3,4)\n",
        "array_2 = array_1.reshape(2,6)\n",
        "print(array_1)\n",
        "print(array_2)\n",
        "\n",
        "# Define 1 dimension and another one as \"-1\" and numpy will automatically \n",
        "# compute other dimension size\n",
        "print(array_2.reshape(4,-1)) \n",
        "\n",
        "# Transpose of array\n",
        "print(array_1.T)"
      ],
      "execution_count": 0,
      "outputs": []
    },
    {
      "metadata": {
        "id": "h9VTPt4bjd5a",
        "colab_type": "text"
      },
      "cell_type": "markdown",
      "source": [
        "## Stacking: Horizontal stack and Vertical stack"
      ]
    },
    {
      "metadata": {
        "id": "sDp5sJ1XjP6y",
        "colab_type": "code",
        "colab": {}
      },
      "cell_type": "code",
      "source": [
        "array_1 = np.arange(12).reshape(3,4)\n",
        "array_2 = np.arange(12,32).reshape(5,4)\n",
        "\n",
        "print(array_1)\n",
        "print (array_2)\n",
        "\n",
        "#Vstack : Columns should be same for both arrays\n",
        "np.vstack((array_1, array_2))"
      ],
      "execution_count": 0,
      "outputs": []
    },
    {
      "metadata": {
        "id": "MGXPT5cUkRpz",
        "colab_type": "code",
        "colab": {}
      },
      "cell_type": "code",
      "source": [
        "array_3 = np.arange(12).reshape(4,3)\n",
        "array_4 = np.arange(12,32).reshape(4,5)\n",
        "\n",
        "print(array_3)\n",
        "print(array_4)\n",
        "\n",
        "#Hstack : Rows should be same\n",
        "np.hstack((array_3, array_4))"
      ],
      "execution_count": 0,
      "outputs": []
    },
    {
      "metadata": {
        "id": "vZhJ4l0DlPzT",
        "colab_type": "text"
      },
      "cell_type": "markdown",
      "source": [
        "## User-defined functions on array"
      ]
    },
    {
      "metadata": {
        "id": "HlZwPzFRlUdJ",
        "colab_type": "code",
        "colab": {}
      },
      "cell_type": "code",
      "source": [
        "# basic functions\n",
        "array_1 = np.arange(1,13).reshape(3,4)\n",
        "\n",
        "print(np.sin(array_1))\n",
        "print(np.cos(array_1))\n",
        "print(np.exp(array_1))\n",
        "print(np.log(array_1))"
      ],
      "execution_count": 0,
      "outputs": []
    },
    {
      "metadata": {
        "id": "hUZumv8mlsZ7",
        "colab_type": "code",
        "colab": {}
      },
      "cell_type": "code",
      "source": [
        "array_2 = np.arange(1,20)\n",
        "print(array_2)\n",
        "\n",
        "# Not recommended: Non-numpy way to apply user-defined function on array\n",
        "array_list = [x/(x+1) for x in array_2]\n",
        "print(array_list)\n",
        "\n",
        "# Recommended: The numpy way o vectorize function and apply it\n",
        "fn = np.vectorize(lambda x: x/(x+1))\n",
        "print(fn(array_2))"
      ],
      "execution_count": 0,
      "outputs": []
    },
    {
      "metadata": {
        "id": "czKnoLxxnRJ_",
        "colab_type": "text"
      },
      "cell_type": "markdown",
      "source": [
        "## Basic Linear Algebra operations"
      ]
    },
    {
      "metadata": {
        "id": "TVy_ElFDnXma",
        "colab_type": "code",
        "colab": {}
      },
      "cell_type": "code",
      "source": [
        "# np.linalg package\n",
        "\n",
        "array_1 = np.arange(1,10).reshape(3,3)\n",
        "array_2 = np.arange(1,13).reshape(3,4)\n",
        "\n",
        "print(array_1)\n",
        "print(array_2)\n",
        "\n",
        "print(np.dot(array_1, array_2))\n"
      ],
      "execution_count": 0,
      "outputs": []
    },
    {
      "metadata": {
        "id": "wPvOoVXxoqAx",
        "colab_type": "code",
        "colab": {}
      },
      "cell_type": "code",
      "source": [
        "# inverse - NOT WORKING\n",
        "#np.linalg.inv(array_1)"
      ],
      "execution_count": 0,
      "outputs": []
    },
    {
      "metadata": {
        "id": "iACx7pKbo7PY",
        "colab_type": "code",
        "colab": {}
      },
      "cell_type": "code",
      "source": [
        "# Determinant value\n",
        "print(np.linalg.det(array_1))"
      ],
      "execution_count": 0,
      "outputs": []
    },
    {
      "metadata": {
        "id": "gH_woF_lo8R3",
        "colab_type": "code",
        "colab": {}
      },
      "cell_type": "code",
      "source": [
        "# Eigen values and eigen vectors\n",
        "print(np.linalg.eig(array_1))"
      ],
      "execution_count": 0,
      "outputs": []
    }
  ]
}