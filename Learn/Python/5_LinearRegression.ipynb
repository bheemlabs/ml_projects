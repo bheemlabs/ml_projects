{
  "nbformat": 4,
  "nbformat_minor": 0,
  "metadata": {
    "colab": {
      "name": "5. LinearRegression.ipynb",
      "version": "0.3.2",
      "provenance": [],
      "private_outputs": true,
      "toc_visible": true
    },
    "kernelspec": {
      "name": "python3",
      "display_name": "Python 3"
    }
  },
  "cells": [
    {
      "metadata": {
        "id": "12-6zitNpDKI",
        "colab_type": "text"
      },
      "cell_type": "markdown",
      "source": [
        "# Linear Regression"
      ]
    },
    {
      "metadata": {
        "id": "gvxwednmpa5_",
        "colab_type": "text"
      },
      "cell_type": "markdown",
      "source": [
        "### Mounting GDrive locally\n"
      ]
    },
    {
      "metadata": {
        "id": "GvPl5Na1peJX",
        "colab_type": "code",
        "colab": {}
      },
      "cell_type": "code",
      "source": [
        "# from google.colab import drive\n",
        "# drive.mount('/content/gdrive')"
      ],
      "execution_count": 0,
      "outputs": []
    },
    {
      "metadata": {
        "id": "QU_gODwWrD8m",
        "colab_type": "text"
      },
      "cell_type": "markdown",
      "source": [
        "## Load the data and check basic things about the data"
      ]
    },
    {
      "metadata": {
        "id": "thuFQWT2o_bX",
        "colab_type": "code",
        "colab": {}
      },
      "cell_type": "code",
      "source": [
        "import pandas as pd"
      ],
      "execution_count": 0,
      "outputs": []
    },
    {
      "metadata": {
        "id": "i686MAFFpn3f",
        "colab_type": "code",
        "colab": {}
      },
      "cell_type": "code",
      "source": [
        "tv_adv = pd.read_csv('/content/gdrive/My Drive/Colab Notebooks/Datasets/advertising/tvmarketing.csv')\n",
        "tv_adv.head()"
      ],
      "execution_count": 0,
      "outputs": []
    },
    {
      "metadata": {
        "id": "sxRKpkMFpyEi",
        "colab_type": "code",
        "colab": {}
      },
      "cell_type": "code",
      "source": [
        "tv_adv.tail()"
      ],
      "execution_count": 0,
      "outputs": []
    },
    {
      "metadata": {
        "id": "NWtUZEnEp2aQ",
        "colab_type": "code",
        "colab": {}
      },
      "cell_type": "code",
      "source": [
        "tv_adv.info()"
      ],
      "execution_count": 0,
      "outputs": []
    },
    {
      "metadata": {
        "id": "3pdoWvP6p8lo",
        "colab_type": "code",
        "colab": {}
      },
      "cell_type": "code",
      "source": [
        "tv_adv.shape"
      ],
      "execution_count": 0,
      "outputs": []
    },
    {
      "metadata": {
        "id": "nUOFOmIMqAyS",
        "colab_type": "code",
        "colab": {}
      },
      "cell_type": "code",
      "source": [
        "tv_adv.describe()"
      ],
      "execution_count": 0,
      "outputs": []
    },
    {
      "metadata": {
        "id": "kY2M6Rl7qHfI",
        "colab_type": "text"
      },
      "cell_type": "markdown",
      "source": [
        "## Visualise data using seaborn library"
      ]
    },
    {
      "metadata": {
        "id": "SQlYLbLHqLmX",
        "colab_type": "code",
        "colab": {}
      },
      "cell_type": "code",
      "source": [
        "import seaborn as sns\n",
        "\n",
        "# To visualise in the notebook\n",
        "%matplotlib inline"
      ],
      "execution_count": 0,
      "outputs": []
    },
    {
      "metadata": {
        "id": "Yooue4K1qUGv",
        "colab_type": "code",
        "colab": {}
      },
      "cell_type": "code",
      "source": [
        "# Visualise the relationship between the features and the response using scatterplots\n",
        "sns.pairplot(tv_adv, x_vars=['TV'], y_vars='Sales', size=7, aspect=0.7, kind='scatter')"
      ],
      "execution_count": 0,
      "outputs": []
    },
    {
      "metadata": {
        "id": "aHCgxUlKrNU5",
        "colab_type": "text"
      },
      "cell_type": "markdown",
      "source": [
        "## Performing Simple Linear Regression"
      ]
    },
    {
      "metadata": {
        "id": "oHuiH--1rYkY",
        "colab_type": "text"
      },
      "cell_type": "markdown",
      "source": [
        "### Preparing X and y\n",
        "\n",
        "\n",
        "*   The scikit-learn library expects X (feature variable) and y (response variable) to be NumPy arrays\n",
        "*   However, X can be a dataframe as Pandas is built over NumPy\n",
        "\n"
      ]
    },
    {
      "metadata": {
        "id": "d5IhWCLwrRkI",
        "colab_type": "code",
        "colab": {}
      },
      "cell_type": "code",
      "source": [
        "X = tv_adv['TV']\n",
        "\n",
        "X.head()"
      ],
      "execution_count": 0,
      "outputs": []
    },
    {
      "metadata": {
        "id": "eCJ2wYUcruo3",
        "colab_type": "code",
        "colab": {}
      },
      "cell_type": "code",
      "source": [
        "y = tv_adv['Sales']\n",
        "y.head()"
      ],
      "execution_count": 0,
      "outputs": []
    },
    {
      "metadata": {
        "id": "zuFs8D3ysKmn",
        "colab_type": "text"
      },
      "cell_type": "markdown",
      "source": [
        "### Splitting data into Training and testing sets"
      ]
    },
    {
      "metadata": {
        "id": "BV_1zKRdsOY_",
        "colab_type": "code",
        "colab": {}
      },
      "cell_type": "code",
      "source": [
        "from sklearn.model_selection import train_test_split\n",
        "X_train, X_test, y_train, y_test = train_test_split(X, y, train_size=0.7, random_state=100)"
      ],
      "execution_count": 0,
      "outputs": []
    },
    {
      "metadata": {
        "id": "UvqSr9aYtIQf",
        "colab_type": "code",
        "colab": {}
      },
      "cell_type": "code",
      "source": [
        "print(type(X_train))\n",
        "print(type(X_test))\n",
        "print(type(y_train))\n",
        "print(type(y_test))"
      ],
      "execution_count": 0,
      "outputs": []
    },
    {
      "metadata": {
        "id": "zkMx5x1WtObX",
        "colab_type": "code",
        "colab": {}
      },
      "cell_type": "code",
      "source": [
        "print(len(X_train))\n",
        "print(len(X_test))"
      ],
      "execution_count": 0,
      "outputs": []
    },
    {
      "metadata": {
        "id": "8yoohQRwtVCL",
        "colab_type": "code",
        "colab": {}
      },
      "cell_type": "code",
      "source": [
        "X_train.shape"
      ],
      "execution_count": 0,
      "outputs": []
    },
    {
      "metadata": {
        "id": "EOUgI0O3vsVx",
        "colab_type": "text"
      },
      "cell_type": "markdown",
      "source": [
        "### Converting feature series into NumPy array"
      ]
    },
    {
      "metadata": {
        "id": "aJDYb06LtiG_",
        "colab_type": "code",
        "colab": {}
      },
      "cell_type": "code",
      "source": [
        "import numpy as np\n",
        "\n",
        "# This is needed only when you are using a single feature; in this case, 'TV'\n",
        "X_train = X_train[:,np.newaxis]\n",
        "X_test = X_test[:,np.newaxis]"
      ],
      "execution_count": 0,
      "outputs": []
    },
    {
      "metadata": {
        "id": "l0piJrOtt0Uv",
        "colab_type": "code",
        "colab": {}
      },
      "cell_type": "code",
      "source": [
        "print(X_train.shape)"
      ],
      "execution_count": 0,
      "outputs": []
    },
    {
      "metadata": {
        "id": "-rE_jClGuAY3",
        "colab_type": "code",
        "colab": {}
      },
      "cell_type": "code",
      "source": [
        "print(type(X_train))\n",
        "print(type(X_test))\n",
        "print(type(y_train))\n",
        "print(type(y_test))"
      ],
      "execution_count": 0,
      "outputs": []
    },
    {
      "metadata": {
        "id": "rPWxkLT5v8i7",
        "colab_type": "text"
      },
      "cell_type": "markdown",
      "source": [
        "### Perform Linear regression"
      ]
    },
    {
      "metadata": {
        "id": "6WL6KmimvyJB",
        "colab_type": "code",
        "colab": {}
      },
      "cell_type": "code",
      "source": [
        "from sklearn.linear_model import LinearRegression\n",
        "\n",
        "# Creating LinearRegression object\n",
        "lr = LinearRegression()\n",
        "\n",
        "# You don't need to specify the object to save the result because 'lr' will take results of fit\n",
        "lr.fit(X_train, y_train)"
      ],
      "execution_count": 0,
      "outputs": []
    },
    {
      "metadata": {
        "id": "QXLWriquwjpJ",
        "colab_type": "code",
        "colab": {}
      },
      "cell_type": "code",
      "source": [
        "# Print intercept and coefficients\n",
        "print(lr.intercept_)\n",
        "print(lr.coef_)"
      ],
      "execution_count": 0,
      "outputs": []
    },
    {
      "metadata": {
        "id": "8LZ8--W0wt7b",
        "colab_type": "text"
      },
      "cell_type": "markdown",
      "source": [
        "### Predictions"
      ]
    },
    {
      "metadata": {
        "id": "9ELuuxB2wwbB",
        "colab_type": "code",
        "colab": {}
      },
      "cell_type": "code",
      "source": [
        "# Making predictions on the testing set\n",
        "y_pred = lr.predict(X_test)"
      ],
      "execution_count": 0,
      "outputs": []
    },
    {
      "metadata": {
        "id": "psicxYGMw35S",
        "colab_type": "code",
        "colab": {}
      },
      "cell_type": "code",
      "source": [
        "type(y_pred)"
      ],
      "execution_count": 0,
      "outputs": []
    },
    {
      "metadata": {
        "id": "-Pb2lnLyw67j",
        "colab_type": "code",
        "colab": {}
      },
      "cell_type": "code",
      "source": [
        "print(y_pred[:5])"
      ],
      "execution_count": 0,
      "outputs": []
    },
    {
      "metadata": {
        "id": "sr1EsAy5xAdp",
        "colab_type": "text"
      },
      "cell_type": "markdown",
      "source": [
        "#### Computing RMSE and R^2 values"
      ]
    },
    {
      "metadata": {
        "id": "yJEKOnyNxGJx",
        "colab_type": "code",
        "colab": {}
      },
      "cell_type": "code",
      "source": [
        "from sklearn.metrics import mean_squared_error, r2_score\n",
        "mse = mean_squared_error(y_test, y_pred)"
      ],
      "execution_count": 0,
      "outputs": []
    },
    {
      "metadata": {
        "id": "w7CcxHtgxTCR",
        "colab_type": "code",
        "colab": {}
      },
      "cell_type": "code",
      "source": [
        "r_squared = r2_score(y_test, y_pred)"
      ],
      "execution_count": 0,
      "outputs": []
    },
    {
      "metadata": {
        "id": "qf7PPTelxXb7",
        "colab_type": "code",
        "colab": {}
      },
      "cell_type": "code",
      "source": [
        "print('Mean Squared Error: ', mse)\n",
        "print('R_Squared value: ', r_squared)"
      ],
      "execution_count": 0,
      "outputs": []
    },
    {
      "metadata": {
        "id": "y4m6OY4jx-mx",
        "colab_type": "text"
      },
      "cell_type": "markdown",
      "source": [
        "#### Actual vs prediction evaluation"
      ]
    },
    {
      "metadata": {
        "id": "sSWlkyGkx88x",
        "colab_type": "code",
        "colab": {}
      },
      "cell_type": "code",
      "source": [
        "# Actual vs Predicted\n",
        "\n",
        "import matplotlib.pyplot as plt\n",
        "\n",
        "# Plotting actual and predicted sales\n",
        "c = [i for i in range(1,61,1)] # generating index\n",
        "fig = plt.figure()\n",
        "plt.plot(c, y_test, color='blue', linewidth=2.5,linestyle='-')\n",
        "plt.plot(c, y_pred, color='red', linewidth=2.5,linestyle='-')\n",
        "fig.suptitle('Actual  and Predicted', fontsize=20)\n",
        "plt.xlabel('Index', fontsize=18)\n",
        "plt.ylabel('Sales', fontsize=16)\n"
      ],
      "execution_count": 0,
      "outputs": []
    },
    {
      "metadata": {
        "id": "s-Fils5wzi4Q",
        "colab_type": "code",
        "colab": {}
      },
      "cell_type": "code",
      "source": [
        "# Error terms\n",
        "c=[i for i in range(1,61,1)]\n",
        "fig=plt.figure()\n",
        "plt.plot(c, y_test-y_pred, color='blue',linewidth=2.5,linestyle='-')\n",
        "fig.suptitle('Error terms', fontsize=20)\n",
        "plt.xlabel('Index', fontsize=18)\n",
        "plt.ylabel('y_test - y_pred', fontsize=16)"
      ],
      "execution_count": 0,
      "outputs": []
    },
    {
      "metadata": {
        "id": "HVkFLRXi0Dw-",
        "colab_type": "code",
        "colab": {}
      },
      "cell_type": "code",
      "source": [
        "# histogram for error terms\n",
        "\n",
        "sns.distplot(y_test - y_pred)\n",
        "plt.xlabel('Index', fontsize=18)\n",
        "plt.ylabel('y_test - y_pred', fontsize=16)\n",
        "plt.show()\n",
        "\n",
        "# Looks like Normal distribution"
      ],
      "execution_count": 0,
      "outputs": []
    },
    {
      "metadata": {
        "id": "AB1ojVWd0lK4",
        "colab_type": "code",
        "colab": {}
      },
      "cell_type": "code",
      "source": [
        "# Plot y_test and y_pred\n",
        "\n",
        "plt.scatter(y_test, y_pred)\n",
        "plt.xlabel('y_test')\n",
        "plt.ylabel('y_pred')\n",
        "\n",
        "# Looks like correlated and Line can be passed through the points to have minimum error."
      ],
      "execution_count": 0,
      "outputs": []
    },
    {
      "metadata": {
        "id": "pSTLB3Op4-pY",
        "colab_type": "text"
      },
      "cell_type": "markdown",
      "source": [
        "## Multiple Linear Regression"
      ]
    },
    {
      "metadata": {
        "id": "VJdhgE2N5G13",
        "colab_type": "code",
        "colab": {}
      },
      "cell_type": "code",
      "source": [
        "import pandas as pd\n",
        "import matplotlib.pyplot as plt\n",
        "import seaborn as sns"
      ],
      "execution_count": 0,
      "outputs": []
    },
    {
      "metadata": {
        "id": "nvlKaNf15Sz_",
        "colab_type": "text"
      },
      "cell_type": "markdown",
      "source": [
        "### Load the data"
      ]
    },
    {
      "metadata": {
        "id": "bVDOQ1h65RLg",
        "colab_type": "code",
        "colab": {}
      },
      "cell_type": "code",
      "source": [
        "advertising = pd.read_csv('/content/gdrive/My Drive/Colab Notebooks/Datasets/advertising/advertising.csv')\n",
        "advertising.head()"
      ],
      "execution_count": 0,
      "outputs": []
    },
    {
      "metadata": {
        "id": "2hHMvpOI5fwg",
        "colab_type": "code",
        "colab": {}
      },
      "cell_type": "code",
      "source": [
        "advertising.info()"
      ],
      "execution_count": 0,
      "outputs": []
    },
    {
      "metadata": {
        "id": "Q8Ztrr675kC9",
        "colab_type": "code",
        "colab": {}
      },
      "cell_type": "code",
      "source": [
        "advertising.describe()"
      ],
      "execution_count": 0,
      "outputs": []
    },
    {
      "metadata": {
        "id": "NeKaO7q95rH5",
        "colab_type": "text"
      },
      "cell_type": "markdown",
      "source": [
        "### Visualise the data"
      ]
    },
    {
      "metadata": {
        "id": "rg9unz7I7Phv",
        "colab_type": "code",
        "colab": {}
      },
      "cell_type": "code",
      "source": [
        "sns.pairplot(advertising)"
      ],
      "execution_count": 0,
      "outputs": []
    },
    {
      "metadata": {
        "id": "0nF2ghTG5u3Q",
        "colab_type": "code",
        "colab": {}
      },
      "cell_type": "code",
      "source": [
        "sns.pairplot(advertising, x_vars=['TV','Radio','Newspaper'], y_vars='Sales',size=7, aspect=0.7, kind='scatter')"
      ],
      "execution_count": 0,
      "outputs": []
    },
    {
      "metadata": {
        "id": "8JQuqI5R72D5",
        "colab_type": "text"
      },
      "cell_type": "markdown",
      "source": [
        "### Preparing X and y"
      ]
    },
    {
      "metadata": {
        "id": "oNrrrCY9751B",
        "colab_type": "code",
        "colab": {}
      },
      "cell_type": "code",
      "source": [
        "X = advertising[['TV','Radio','Newspaper']]\n",
        "y= advertising['Sales']"
      ],
      "execution_count": 0,
      "outputs": []
    },
    {
      "metadata": {
        "id": "8EZQ553z8DDI",
        "colab_type": "code",
        "colab": {}
      },
      "cell_type": "code",
      "source": [
        "print(type(X))\n",
        "print(type(y))"
      ],
      "execution_count": 0,
      "outputs": []
    },
    {
      "metadata": {
        "id": "KnLD6gNs8H4H",
        "colab_type": "text"
      },
      "cell_type": "markdown",
      "source": [
        "### Splitting data into train and test sets"
      ]
    },
    {
      "metadata": {
        "id": "zjGwjbYH8Leo",
        "colab_type": "code",
        "colab": {}
      },
      "cell_type": "code",
      "source": [
        "from sklearn.model_selection import train_test_split\n",
        "\n",
        "X_train, X_test, y_train, y_test = train_test_split(X, y, train_size=0.7, random_state=100)"
      ],
      "execution_count": 0,
      "outputs": []
    },
    {
      "metadata": {
        "id": "esGrNuFu8htw",
        "colab_type": "code",
        "colab": {}
      },
      "cell_type": "code",
      "source": [
        "print(type(X_train))\n",
        "print(type(X_test))\n",
        "print(type(y_train))\n",
        "print(type(y_test))"
      ],
      "execution_count": 0,
      "outputs": []
    },
    {
      "metadata": {
        "id": "BHfUqsSb8q49",
        "colab_type": "text"
      },
      "cell_type": "markdown",
      "source": [
        "### Performing Linear Regression"
      ]
    },
    {
      "metadata": {
        "id": "oMwg8fc68tyn",
        "colab_type": "code",
        "colab": {}
      },
      "cell_type": "code",
      "source": [
        "from sklearn.linear_model import LinearRegression\n",
        "\n",
        "lr = LinearRegression()\n",
        "\n",
        "lr.fit(X_train, y_train)"
      ],
      "execution_count": 0,
      "outputs": []
    },
    {
      "metadata": {
        "id": "oW7X5yql9dL3",
        "colab_type": "code",
        "colab": {}
      },
      "cell_type": "code",
      "source": [
        "# Print intercept and coefficients\n",
        "\n",
        "print(lr.intercept_)\n",
        "\n",
        "coeff_df = pd.DataFrame(lr.coef_, X_test.columns, columns=['Coefficient'])\n",
        "coeff_df"
      ],
      "execution_count": 0,
      "outputs": []
    },
    {
      "metadata": {
        "id": "NivZmuC29-uA",
        "colab_type": "text"
      },
      "cell_type": "markdown",
      "source": [
        "From the above result, we may infer that if TV price increases by 1 unit it will affect sales by 0.045 units."
      ]
    },
    {
      "metadata": {
        "id": "88e3rUJC84yH",
        "colab_type": "text"
      },
      "cell_type": "markdown",
      "source": [
        "### Predictions"
      ]
    },
    {
      "metadata": {
        "id": "fkhZxqn286jY",
        "colab_type": "code",
        "colab": {}
      },
      "cell_type": "code",
      "source": [
        "y_pred = lr.predict(X_test)"
      ],
      "execution_count": 0,
      "outputs": []
    },
    {
      "metadata": {
        "id": "YlKe6a6k9Akf",
        "colab_type": "code",
        "colab": {}
      },
      "cell_type": "code",
      "source": [
        "print(type(y_pred))"
      ],
      "execution_count": 0,
      "outputs": []
    },
    {
      "metadata": {
        "id": "gP46PXZ3-NMd",
        "colab_type": "code",
        "colab": {}
      },
      "cell_type": "code",
      "source": [
        "print(y_pred[:10])"
      ],
      "execution_count": 0,
      "outputs": []
    },
    {
      "metadata": {
        "id": "8ILz1CMo-T1Y",
        "colab_type": "text"
      },
      "cell_type": "markdown",
      "source": [
        "#### Calculating Error terms"
      ]
    },
    {
      "metadata": {
        "id": "Gc_bizPN-Wyo",
        "colab_type": "code",
        "colab": {}
      },
      "cell_type": "code",
      "source": [
        "from sklearn.metrics import mean_squared_error, r2_score\n",
        "mse = mean_squared_error(y_test, y_pred)\n",
        "r_squared = r2_score(y_test, y_pred)"
      ],
      "execution_count": 0,
      "outputs": []
    },
    {
      "metadata": {
        "id": "CnoFgJFI-jDI",
        "colab_type": "code",
        "colab": {}
      },
      "cell_type": "code",
      "source": [
        "print('Mean squared error: ', mse)\n",
        "print('R_square_value: ', r_squared)"
      ],
      "execution_count": 0,
      "outputs": []
    },
    {
      "metadata": {
        "id": "8zJXIcNb-79v",
        "colab_type": "text"
      },
      "cell_type": "markdown",
      "source": [
        "#### Optional: Checking for P-value using StatsModels"
      ]
    },
    {
      "metadata": {
        "id": "7pt4QAmC_B84",
        "colab_type": "code",
        "colab": {}
      },
      "cell_type": "code",
      "source": [
        "import statsmodels.api as sm\n",
        "\n",
        "X_train_sm = X_train\n",
        "\n",
        "# Unlike sklearn, statsmodels doesn't automatically fit a constant,\n",
        "# so you need to use the method sm.add_constant(X) in order to add a constant\n",
        "X_train_sm = sm.add_constant(X_train_sm)\n",
        "print(X_train_sm.head())\n",
        "\n",
        "# Create a fitted model in one line\n",
        "lr_1 = sm.OLS(y_train, X_train_sm).fit()\n",
        "\n",
        "# print the coefficients\n",
        "lr_1.params"
      ],
      "execution_count": 0,
      "outputs": []
    },
    {
      "metadata": {
        "id": "dczDAMm3ACIg",
        "colab_type": "code",
        "colab": {}
      },
      "cell_type": "code",
      "source": [
        "lr_1.summary()"
      ],
      "execution_count": 0,
      "outputs": []
    },
    {
      "metadata": {
        "id": "Oy5LUYHPA4O_",
        "colab_type": "text"
      },
      "cell_type": "markdown",
      "source": [
        "From the above we can see that Newspaper is insignificant because of high P-value"
      ]
    },
    {
      "metadata": {
        "id": "xSWDJcO2A9-O",
        "colab_type": "code",
        "colab": {}
      },
      "cell_type": "code",
      "source": [
        "%matplotlib inline"
      ],
      "execution_count": 0,
      "outputs": []
    },
    {
      "metadata": {
        "id": "Xzq73pU-BCEQ",
        "colab_type": "code",
        "colab": {}
      },
      "cell_type": "code",
      "source": [
        "plt.figure(figsize=(5,5))\n",
        "sns.heatmap(advertising.corr(), annot=True)"
      ],
      "execution_count": 0,
      "outputs": []
    },
    {
      "metadata": {
        "id": "cTKHMzcwDHRv",
        "colab_type": "text"
      },
      "cell_type": "markdown",
      "source": [
        "Above heatmap shows Radio and newspaper are highly correlated. We need to check individual R-squared value for newspaper and Sales"
      ]
    },
    {
      "metadata": {
        "id": "MLxeIEFvDTIX",
        "colab_type": "text"
      },
      "cell_type": "markdown",
      "source": [
        "#### Simple Linear Regression model on Newspaper vs Sales"
      ]
    },
    {
      "metadata": {
        "id": "2RBtkveXDZm_",
        "colab_type": "code",
        "colab": {}
      },
      "cell_type": "code",
      "source": [
        "import numpy as np\n",
        "import pandas as pd\n",
        "\n",
        "news_adv = pd.read_csv('/content/gdrive/My Drive/Colab Notebooks/Datasets/advertising/advertising.csv')\n",
        "\n",
        "X_news = news_adv['Newspaper']\n",
        "y_news = news_adv['Sales']\n",
        "\n",
        "from sklearn.model_selection import train_test_split\n",
        "X_news_train, X_news_test, y_news_train, y_news_test = train_test_split(X_news, y_news, train_size=0.7, random_state = 110)\n",
        "\n",
        "print(X_news_train.shape)\n",
        "print(X_news_test.shape)\n",
        "\n",
        "X_news_train = X_news_train[:,np.newaxis]\n",
        "X_news_test = X_news_test[:,np.newaxis]\n",
        "\n",
        "print(X_news_train.shape)\n",
        "print(X_news_test.shape)\n",
        "\n",
        "lr_news = LinearRegression()\n",
        "lr_news.fit(X_news_train, y_news_train)\n",
        "print(lr_news.intercept_)\n",
        "print(lr_news.coef_)\n",
        "\n",
        "y_news_pred = lr_news.predict(X_news_test)\n",
        "\n",
        "r_squared_news = r2_score(y_news_test, y_news_pred)\n",
        "print(r_squared_news)"
      ],
      "execution_count": 0,
      "outputs": []
    },
    {
      "metadata": {
        "id": "GeeOs8MFHSGH",
        "colab_type": "text"
      },
      "cell_type": "markdown",
      "source": [
        "Above, we can see R-Squared value is very low almost close to 0. Hence, it doesn't affect Sales if we remove Newspaper from other features. "
      ]
    },
    {
      "metadata": {
        "id": "8_MFJ6_kHs84",
        "colab_type": "text"
      },
      "cell_type": "markdown",
      "source": [
        "### Implementing the results and running the model again"
      ]
    },
    {
      "metadata": {
        "id": "2Hid6N_9Hzh2",
        "colab_type": "code",
        "colab": {}
      },
      "cell_type": "code",
      "source": [
        "# Putting feature variable to X\n",
        "X = advertising[['TV','Radio','Newspaper']]\n",
        "y = advertising['Sales']\n",
        "\n",
        "X_train, X_test, y_train, y_test = train_test_split(X, y, train_size=0.7, random_state=101)\n",
        "\n",
        "# Removing Newspaper from our dataset\n",
        "X_train_new = X_train[['TV','Radio']]\n",
        "X_test_new = X_test[['TV','Radio']]"
      ],
      "execution_count": 0,
      "outputs": []
    },
    {
      "metadata": {
        "id": "tQhk6-FWIUlO",
        "colab_type": "code",
        "colab": {}
      },
      "cell_type": "code",
      "source": [
        "lr = LinearRegression()\n",
        "lr.fit(X_train_new, y_train)\n",
        "\n",
        "print(lr.intercept_)\n",
        "print(lr.coef_)"
      ],
      "execution_count": 0,
      "outputs": []
    },
    {
      "metadata": {
        "id": "mov8k3LQIhA3",
        "colab_type": "code",
        "colab": {}
      },
      "cell_type": "code",
      "source": [
        "y_pred_new = lr.predict(X_test_new)"
      ],
      "execution_count": 0,
      "outputs": []
    },
    {
      "metadata": {
        "id": "KlIxoVvXIwsf",
        "colab_type": "code",
        "colab": {}
      },
      "cell_type": "code",
      "source": [
        "# Actual vs Predicted\n",
        "\n",
        "import matplotlib.pyplot as plt\n",
        "\n",
        "# Plotting actual and predicted sales\n",
        "c = [i for i in range(1,61,1)] # generating index\n",
        "fig = plt.figure()\n",
        "plt.plot(c, y_test, color='blue', linewidth=2.5,linestyle='-')\n",
        "plt.plot(c, y_pred, color='red', linewidth=2.5,linestyle='-')\n",
        "fig.suptitle('Actual  and Predicted', fontsize=20)\n",
        "plt.xlabel('Index', fontsize=18)\n",
        "plt.ylabel('Sales', fontsize=16)"
      ],
      "execution_count": 0,
      "outputs": []
    },
    {
      "metadata": {
        "id": "EsiD2HgbMC3x",
        "colab_type": "code",
        "colab": {}
      },
      "cell_type": "code",
      "source": [
        "# Error terms\n",
        "c=[i for i in range(1,61,1)]\n",
        "fig=plt.figure()\n",
        "plt.plot(c, y_test-y_pred, color='blue',linewidth=2.5,linestyle='-')\n",
        "fig.suptitle('Error terms', fontsize=20)\n",
        "plt.xlabel('Index', fontsize=18)\n",
        "plt.ylabel('y_test - y_pred', fontsize=16)"
      ],
      "execution_count": 0,
      "outputs": []
    },
    {
      "metadata": {
        "id": "RvDQ3aDfMIbm",
        "colab_type": "code",
        "colab": {}
      },
      "cell_type": "code",
      "source": [
        "# plotting distribution of the error term\n",
        "sns.distplot(y_test-y_pred)\n",
        "plt.xlabel(\"Error = y - y_pred\")"
      ],
      "execution_count": 0,
      "outputs": []
    },
    {
      "metadata": {
        "id": "OgqHVs6WMt2L",
        "colab_type": "code",
        "colab": {}
      },
      "cell_type": "code",
      "source": [
        "from sklearn.metrics import mean_squared_error, r2_score\n",
        "mse = mean_squared_error(y_test, y_pred_new)\n",
        "r_squared = r2_score(y_test, y_pred_new)"
      ],
      "execution_count": 0,
      "outputs": []
    },
    {
      "metadata": {
        "id": "qI204lsSM5c-",
        "colab_type": "code",
        "colab": {}
      },
      "cell_type": "code",
      "source": [
        "print('Mean squared error: ', mse)\n",
        "print ('R_Squared: ', r_squared)"
      ],
      "execution_count": 0,
      "outputs": []
    },
    {
      "metadata": {
        "id": "z7iMQ5-xNGDa",
        "colab_type": "code",
        "colab": {}
      },
      "cell_type": "code",
      "source": [
        "X_train_final = X_train_new\n",
        "\n",
        "X_train_final = sm.add_constant(X_train_final)\n",
        "lm_final = sm.OLS(y_train, X_train_final).fit()\n",
        "\n",
        "print(lm_final.summary())"
      ],
      "execution_count": 0,
      "outputs": []
    },
    {
      "metadata": {
        "id": "TMfYLp20NchF",
        "colab_type": "text"
      },
      "cell_type": "markdown",
      "source": [
        "Now it looks like perfect model with TV and Radio with high R-Squared value. "
      ]
    }
  ]
}