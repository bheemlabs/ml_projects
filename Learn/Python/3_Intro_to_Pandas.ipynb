{
 "cells": [
  {
   "cell_type": "markdown",
   "metadata": {
    "colab_type": "text",
    "id": "rMpy4PpdUD2G"
   },
   "source": [
    "# Introduction to Pandas library"
   ]
  },
  {
   "cell_type": "code",
   "execution_count": 0,
   "metadata": {
    "colab": {},
    "colab_type": "code",
    "id": "GNvBNc3a4rJp"
   },
   "outputs": [],
   "source": [
    "import pandas as pd"
   ]
  },
  {
   "cell_type": "markdown",
   "metadata": {
    "colab_type": "text",
    "id": "lCGf3eWYUOG5"
   },
   "source": [
    "## Series"
   ]
  },
  {
   "cell_type": "markdown",
   "metadata": {
    "colab_type": "text",
    "id": "dIXaQcpe7hjb"
   },
   "source": [
    "### Creating Pandas series using `pd.Series`"
   ]
  },
  {
   "cell_type": "code",
   "execution_count": 0,
   "metadata": {
    "colab": {},
    "colab_type": "code",
    "id": "EoJpYKh06mg8"
   },
   "outputs": [],
   "source": [
    "s = pd.Series([2,4,5,6,9])\n",
    "print(s)\n",
    "print(type(s))"
   ]
  },
  {
   "cell_type": "code",
   "execution_count": 0,
   "metadata": {
    "colab": {},
    "colab_type": "code",
    "id": "Mxd6Sl9W67hU"
   },
   "outputs": [],
   "source": [
    "char_series = pd.Series(['a','b','af'])\n",
    "print(char_series)"
   ]
  },
  {
   "cell_type": "code",
   "execution_count": 0,
   "metadata": {
    "colab": {},
    "colab_type": "code",
    "id": "mDIkDN_L7DhV"
   },
   "outputs": [],
   "source": [
    "# creating a series of timestamps\n",
    "date_series = pd.date_range(start = '11-09-2017', end='12-12-2017')\n",
    "print(date_series)\n",
    "print(type(date_series))"
   ]
  },
  {
   "cell_type": "markdown",
   "metadata": {
    "colab_type": "text",
    "id": "ucIHry_g7sRL"
   },
   "source": [
    "### Indexing Series"
   ]
  },
  {
   "cell_type": "code",
   "execution_count": 0,
   "metadata": {
    "colab": {},
    "colab_type": "code",
    "id": "9xgQQzWw7u27"
   },
   "outputs": [],
   "source": [
    "# accessing 4th element\n",
    "print(s[3])\n",
    "\n",
    "# accessing elements starting index = 2 till end\n",
    "print(s[2:])\n",
    "\n",
    "# accessing 2nd and 4th element from Series\n",
    "print(s[[1,3]])"
   ]
  },
  {
   "cell_type": "markdown",
   "metadata": {
    "colab_type": "text",
    "id": "W_8_9GAq8U0z"
   },
   "source": [
    "### Apply function"
   ]
  },
  {
   "cell_type": "code",
   "execution_count": 0,
   "metadata": {
    "colab": {},
    "colab_type": "code",
    "id": "8uL3VtRy8Xpr"
   },
   "outputs": [],
   "source": [
    "s.apply(lambda x: x**2)"
   ]
  },
  {
   "cell_type": "code",
   "execution_count": 0,
   "metadata": {
    "colab": {},
    "colab_type": "code",
    "id": "WANPtrXO8c7y"
   },
   "outputs": [],
   "source": [
    "# numpy array\n",
    "import numpy as np\n",
    "\n",
    "#np.arange(10).apply(lambda x: x**2) # Gives error\n",
    "array_1 = np.arange(10)\n",
    "fn = np.vectorize(lambda x: x**2)\n",
    "print(fn(array_1))"
   ]
  },
  {
   "cell_type": "markdown",
   "metadata": {
    "colab_type": "text",
    "id": "kMcJNo4j9qEb"
   },
   "source": [
    "## DataFrames"
   ]
  },
  {
   "cell_type": "markdown",
   "metadata": {
    "colab_type": "text",
    "id": "Dr0LJe9t_qbT"
   },
   "source": [
    "### Mounting Google drive locally"
   ]
  },
  {
   "cell_type": "code",
   "execution_count": 0,
   "metadata": {
    "colab": {},
    "colab_type": "code",
    "id": "WZkaRs4S_vFV"
   },
   "outputs": [],
   "source": [
    "from google.colab import drive\n",
    "drive.mount('/content/gdrive')"
   ]
  },
  {
   "cell_type": "markdown",
   "metadata": {
    "colab_type": "text",
    "id": "UKahb-cI9tjC"
   },
   "source": [
    "### Creating dataframes from Dictionaries"
   ]
  },
  {
   "cell_type": "code",
   "execution_count": 0,
   "metadata": {
    "colab": {},
    "colab_type": "code",
    "id": "0l_3kD-_9xZE"
   },
   "outputs": [],
   "source": [
    "df = pd.DataFrame({'name':['Vinay','Kushal','Aman','Saif'],\n",
    "                  'age':[22,25,24,28],\n",
    "                  'occupation':['engineer','doctor','data analyst','teacher']})\n",
    "df"
   ]
  },
  {
   "cell_type": "markdown",
   "metadata": {
    "colab_type": "text",
    "id": "D3ee9y83Bytq"
   },
   "source": [
    "### Working with dataframe from csv file"
   ]
  },
  {
   "cell_type": "code",
   "execution_count": 0,
   "metadata": {
    "colab": {},
    "colab_type": "code",
    "id": "1ozaD0UV_-Vz"
   },
   "outputs": [],
   "source": [
    "# read csv file as dataframe\n",
    "market_df = pd.read_csv('/content/gdrive/My Drive/Colab Notebooks/Datasets/global_sales_data/market_fact.csv')"
   ]
  },
  {
   "cell_type": "code",
   "execution_count": 0,
   "metadata": {
    "colab": {},
    "colab_type": "code",
    "id": "SG1mlwuiAwdz"
   },
   "outputs": [],
   "source": [
    "# Looking at top entries of dataframes\n",
    "market_df.head()"
   ]
  },
  {
   "cell_type": "code",
   "execution_count": 0,
   "metadata": {
    "colab": {},
    "colab_type": "code",
    "id": "ltwL1hxIA2h6"
   },
   "outputs": [],
   "source": [
    "# Looking at bottom entries of dataframes\n",
    "market_df.tail()"
   ]
  },
  {
   "cell_type": "code",
   "execution_count": 0,
   "metadata": {
    "colab": {},
    "colab_type": "code",
    "id": "j4AWCKk8BIIC"
   },
   "outputs": [],
   "source": [
    "# Looking at the global info about dataframe\n",
    "market_df.info()"
   ]
  },
  {
   "cell_type": "code",
   "execution_count": 0,
   "metadata": {
    "colab": {},
    "colab_type": "code",
    "id": "arPX_XKkB9o0"
   },
   "outputs": [],
   "source": [
    "# describe dataframe : Gives summary of all numeric columns in the dataset\n",
    "\n",
    "market_df.describe()"
   ]
  },
  {
   "cell_type": "code",
   "execution_count": 0,
   "metadata": {
    "colab": {},
    "colab_type": "code",
    "id": "9t--H7iSCSmy"
   },
   "outputs": [],
   "source": [
    "# Column names of dataframe\n",
    "market_df.columns"
   ]
  },
  {
   "cell_type": "code",
   "execution_count": 0,
   "metadata": {
    "colab": {},
    "colab_type": "code",
    "id": "Yfr8subfCXid"
   },
   "outputs": [],
   "source": [
    "# The number of rows and columns\n",
    "market_df.shape"
   ]
  },
  {
   "cell_type": "code",
   "execution_count": 0,
   "metadata": {
    "colab": {},
    "colab_type": "code",
    "id": "fl7B5sf5Cf0G"
   },
   "outputs": [],
   "source": [
    "# You can extract the values of dataframe as a numpy array using df.values\n",
    "market_df.values"
   ]
  },
  {
   "cell_type": "code",
   "execution_count": 0,
   "metadata": {
    "colab": {},
    "colab_type": "code",
    "id": "z6_QGbJiDpX9"
   },
   "outputs": [],
   "source": [
    "# setting index to \"Ord_id\"\n",
    "df2 = market_df.set_index('Ord_id', inplace=False)\n",
    "df2.head()\n",
    "#market_df.head()"
   ]
  },
  {
   "cell_type": "code",
   "execution_count": 0,
   "metadata": {
    "colab": {},
    "colab_type": "code",
    "id": "l5aOD0Z8ECH4"
   },
   "outputs": [],
   "source": [
    "# Sort dataframes by index\n",
    "market_df.sort_index(ascending = False)"
   ]
  },
  {
   "cell_type": "code",
   "execution_count": 0,
   "metadata": {
    "colab": {},
    "colab_type": "code",
    "id": "8LIqHpOrELaE"
   },
   "outputs": [],
   "source": [
    "# Sort data frames by values\n",
    "market_df.sort_values(by='Sales').head()"
   ]
  },
  {
   "cell_type": "code",
   "execution_count": 0,
   "metadata": {
    "colab": {},
    "colab_type": "code",
    "id": "kG4d3Cq1EU9C"
   },
   "outputs": [],
   "source": [
    "# Sort in decreasing order of shipping cost\n",
    "market_df.sort_values(by='Shipping_Cost', ascending=False).head()"
   ]
  },
  {
   "cell_type": "code",
   "execution_count": 0,
   "metadata": {
    "colab": {},
    "colab_type": "code",
    "id": "CTPNooChEik7"
   },
   "outputs": [],
   "source": [
    "# Sort by more than 2 columns\n",
    "\n",
    "# Sort in ascending order of Sales for each Product\n",
    "market_df.sort_values(by=['Prod_id','Sales'],ascending=False)"
   ]
  },
  {
   "cell_type": "code",
   "execution_count": 0,
   "metadata": {
    "colab": {},
    "colab_type": "code",
    "id": "arfVAeVLE77b"
   },
   "outputs": [],
   "source": [
    "# Sort by more than 2 columns\n",
    "\n",
    "# Sort in ascending order of Sales for each Product\n",
    "market_df.sort_values(by=['Prod_id','Sales'],ascending=[False,True])"
   ]
  },
  {
   "cell_type": "markdown",
   "metadata": {
    "colab_type": "text",
    "id": "Ds4oIUf6GgIA"
   },
   "source": [
    "### Indexing and Selection in dataframe"
   ]
  },
  {
   "cell_type": "code",
   "execution_count": 0,
   "metadata": {
    "colab": {},
    "colab_type": "code",
    "id": "f2Hjpr3MGmWW"
   },
   "outputs": [],
   "source": [
    "# Selecting the rows from indices 2 to 6\n",
    "market_df[2:7]"
   ]
  },
  {
   "cell_type": "code",
   "execution_count": 0,
   "metadata": {
    "colab": {},
    "colab_type": "code",
    "id": "JjclL2aAH5AS"
   },
   "outputs": [],
   "source": [
    "# Selecting alternate rows starting from index = 5\n",
    "market_df[5::2].head()"
   ]
  },
  {
   "cell_type": "code",
   "execution_count": 0,
   "metadata": {
    "colab": {},
    "colab_type": "code",
    "id": "7k-FZc5tIZqZ"
   },
   "outputs": [],
   "source": [
    "# Select columns - using df['column']\n",
    "\n",
    "sales = market_df['Sales']\n",
    "print(sales.head())\n",
    "print(type(sales))"
   ]
  },
  {
   "cell_type": "code",
   "execution_count": 0,
   "metadata": {
    "colab": {},
    "colab_type": "code",
    "id": "4VGdLWWvIj8Z"
   },
   "outputs": [],
   "source": [
    "# Select columns - using df.column\n",
    "sales = market_df.Sales\n",
    "print(sales.head())\n",
    "print(type(sales))"
   ]
  },
  {
   "cell_type": "code",
   "execution_count": 0,
   "metadata": {
    "colab": {},
    "colab_type": "code",
    "id": "o6YoDb9lIq6k"
   },
   "outputs": [],
   "source": [
    "# Select multiple columns\n",
    "market_df[['Cust_id','Sales','Profit']].head()"
   ]
  },
  {
   "cell_type": "code",
   "execution_count": 0,
   "metadata": {
    "colab": {},
    "colab_type": "code",
    "id": "aA4h6Q4uJK9Z"
   },
   "outputs": [],
   "source": [
    "print(type(market_df[['Cust_id','Sales','Profit']]))"
   ]
  },
  {
   "cell_type": "code",
   "execution_count": 0,
   "metadata": {
    "colab": {},
    "colab_type": "code",
    "id": "9nDJEHNUM8ID"
   },
   "outputs": [],
   "source": [
    "# Similarly, using double square brackets, if we select one column, we'll get df and not Series\n",
    "type(market_df[['Sales']])\n",
    "\n",
    "market_df[['Sales']].head()"
   ]
  },
  {
   "cell_type": "code",
   "execution_count": 0,
   "metadata": {
    "colab": {},
    "colab_type": "code",
    "id": "P8oLspOuNvdy"
   },
   "outputs": [],
   "source": [
    "market_df[2] # gives error because pandas doesn't know if it is row index or column label or what not\n",
    "# we use pd.DataFrame.iloc or pd.DataFrame.loc"
   ]
  },
  {
   "cell_type": "code",
   "execution_count": 0,
   "metadata": {
    "colab": {},
    "colab_type": "code",
    "id": "CVXzGRs6RiwI"
   },
   "outputs": [],
   "source": [
    "# Selecting a single element\n",
    "# Note that 2,4 corresponds to the third row and 5th column (Sales)\n",
    "market_df.iloc[2,4]"
   ]
  },
  {
   "cell_type": "code",
   "execution_count": 0,
   "metadata": {
    "colab": {},
    "colab_type": "code",
    "id": "TkECplXVR0Dt"
   },
   "outputs": [],
   "source": [
    "# Selecting a single row and all columns \n",
    "# Select 6th row, with label (and index) = 5\n",
    "print(market_df.iloc[5])\n",
    "\n",
    "# equivalent to \n",
    "print(market_df.iloc[5,:])\n",
    "\n",
    "# equivalent to \n",
    "print(market_df.iloc[5,])"
   ]
  },
  {
   "cell_type": "code",
   "execution_count": 0,
   "metadata": {
    "colab": {},
    "colab_type": "code",
    "id": "PT9fPQjPSlxy"
   },
   "outputs": [],
   "source": [
    "# Selecting multiple rows using a list of indices\n",
    "market_df.iloc[[5,7,8]]\n",
    "\n",
    "# equivalent to market_df.iloc[[5,7,8],:]\n",
    "# equivalent to market_df.iloc[[5,7,8],]"
   ]
  },
  {
   "cell_type": "code",
   "execution_count": 0,
   "metadata": {
    "colab": {},
    "colab_type": "code",
    "id": "X2UAQPI3S2mz"
   },
   "outputs": [],
   "source": [
    "market_df.iloc[4:8]\n",
    "# equivalent to market_df.iloc[4:8,:]\n",
    "# equivalent to market_df.iloc[4:8,]"
   ]
  },
  {
   "cell_type": "code",
   "execution_count": 0,
   "metadata": {
    "colab": {},
    "colab_type": "code",
    "id": "BUMEOFjITGoU"
   },
   "outputs": [],
   "source": [
    "# Selecting a single column\n",
    "market_df.iloc[:,2].head()"
   ]
  },
  {
   "cell_type": "code",
   "execution_count": 0,
   "metadata": {
    "colab": {},
    "colab_type": "code",
    "id": "M9dxzjVlTS3f"
   },
   "outputs": [],
   "source": [
    "market_df.iloc[2:5,3:8]"
   ]
  },
  {
   "cell_type": "code",
   "execution_count": 0,
   "metadata": {
    "colab": {},
    "colab_type": "code",
    "id": "TITskhtrTaKY"
   },
   "outputs": [],
   "source": [
    "# using booleans\n",
    "# This selects the rows corresponding to True\n",
    "market_df.iloc[[True, True, False, True]]"
   ]
  },
  {
   "cell_type": "markdown",
   "metadata": {
    "colab_type": "text",
    "id": "_98ZHqrYVA-n"
   },
   "source": [
    "#### Label based indexing"
   ]
  },
  {
   "cell_type": "code",
   "execution_count": 0,
   "metadata": {
    "colab": {},
    "colab_type": "code",
    "id": "1ZSZH1GyVEkI"
   },
   "outputs": [],
   "source": [
    "print(market_df.loc[5]) # Row with label=5 and not index\n",
    "print(market_df.loc[[3,7,8],'Sales']) # Rows with label=[3,7,8]"
   ]
  },
  {
   "cell_type": "code",
   "execution_count": 0,
   "metadata": {
    "colab": {},
    "colab_type": "code",
    "id": "vPTFcv9fWgjL"
   },
   "outputs": [],
   "source": [
    "df2.loc['Ord_5406','Sales'] #'Ord_5406' => label or index name"
   ]
  },
  {
   "cell_type": "code",
   "execution_count": 0,
   "metadata": {
    "colab": {},
    "colab_type": "code",
    "id": "mQzFtDaMWxxo"
   },
   "outputs": [],
   "source": [
    "df2.loc[['Ord_5406','Ord_5446','Ord_5485'],'Sales':'Profit']"
   ]
  },
  {
   "cell_type": "code",
   "execution_count": 0,
   "metadata": {
    "colab": {},
    "colab_type": "code",
    "id": "yKqJiEpoXB7_"
   },
   "outputs": [],
   "source": [
    "# using booleans\n",
    "market_df.loc[[True, True, False, True]]"
   ]
  },
  {
   "cell_type": "markdown",
   "metadata": {
    "colab_type": "text",
    "id": "gYyFFaDQYCLy"
   },
   "source": [
    "### Slicing and dicing on DataFrame"
   ]
  },
  {
   "cell_type": "code",
   "execution_count": 0,
   "metadata": {
    "colab": {},
    "colab_type": "code",
    "id": "dilyrFZ6YH8I"
   },
   "outputs": [],
   "source": [
    "df = pd.read_csv('/content/gdrive/My Drive/Colab Notebooks/Datasets/global_sales_data/market_fact.csv')\n",
    "df.head()"
   ]
  },
  {
   "cell_type": "code",
   "execution_count": 0,
   "metadata": {
    "colab": {},
    "colab_type": "code",
    "id": "WEnSwdU5Yptr"
   },
   "outputs": [],
   "source": [
    "# Select all rows with Sales > 3000\n",
    "df.Sales > 3000\n",
    "df.loc[df.Sales > 3000].head()\n",
    "# Equivalent to df.loc[df['Sales'] > 3000, :]"
   ]
  },
  {
   "cell_type": "code",
   "execution_count": 0,
   "metadata": {
    "colab": {},
    "colab_type": "code",
    "id": "C4SjajrDZXYw"
   },
   "outputs": [],
   "source": [
    "# We combine multiple conditions using the & operator\n",
    "df.loc[(df.Sales > 2000) & (df.Sales < 3000) & (df.Profit > 100), :].head()"
   ]
  },
  {
   "cell_type": "code",
   "execution_count": 0,
   "metadata": {
    "colab": {},
    "colab_type": "code",
    "id": "8t8yo3y2Z2qv"
   },
   "outputs": [],
   "source": [
    "# The OR operator is '|'\n",
    "df.loc[(df.Sales > 2000) | (df.Profit > 100), :].head()"
   ]
  },
  {
   "cell_type": "code",
   "execution_count": 0,
   "metadata": {
    "colab": {},
    "colab_type": "code",
    "id": "KF60afKgaQbJ"
   },
   "outputs": [],
   "source": [
    "df.loc[(df.Sales > 2000) & (df.Sales < 3000) & (df.Profit > 100),['Cust_id','Sales','Profit']].head()"
   ]
  },
  {
   "cell_type": "code",
   "execution_count": 0,
   "metadata": {
    "colab": {},
    "colab_type": "code",
    "id": "63EdNAPMac6v"
   },
   "outputs": [],
   "source": [
    "# You may want to select rows whose column value is in an iterable\n",
    "\n",
    "customers_in_bangalore = ['Cust_1798','Cust_1519','Cust_637','Cust_851']\n",
    "\n",
    "# To get all the orders from these customers, use the isin() function\n",
    "df.loc[df['Cust_id'].isin(customers_in_bangalore), :]"
   ]
  },
  {
   "cell_type": "markdown",
   "metadata": {
    "colab_type": "text",
    "id": "jTRc8naaeNhZ"
   },
   "source": [
    "### Merging and Concatenation of DataFrames"
   ]
  },
  {
   "cell_type": "markdown",
   "metadata": {
    "colab_type": "text",
    "id": "5d3r3NdKkL6G"
   },
   "source": [
    "#### Merging of DataFrames"
   ]
  },
  {
   "cell_type": "code",
   "execution_count": 0,
   "metadata": {
    "colab": {},
    "colab_type": "code",
    "id": "4ZlOOZZCeUPm"
   },
   "outputs": [],
   "source": [
    "market_df = pd.read_csv('/content/gdrive/My Drive/Colab Notebooks/Datasets/global_sales_data/market_fact.csv')\n",
    "customer_df = pd.read_csv('/content/gdrive/My Drive/Colab Notebooks/Datasets/global_sales_data/cust_dimen.csv')\n",
    "product_df = pd.read_csv('/content/gdrive/My Drive/Colab Notebooks/Datasets/global_sales_data/prod_dimen.csv')\n",
    "shipping_df = pd.read_csv('/content/gdrive/My Drive/Colab Notebooks/Datasets/global_sales_data/shipping_dimen.csv')\n",
    "orders_df = pd.read_csv('/content/gdrive/My Drive/Colab Notebooks/Datasets/global_sales_data/orders_dimen.csv')"
   ]
  },
  {
   "cell_type": "code",
   "execution_count": 0,
   "metadata": {
    "colab": {},
    "colab_type": "code",
    "id": "uHLc93ZAfXnW"
   },
   "outputs": [],
   "source": [
    "print(market_df.head())\n",
    "print(customer_df.head())\n",
    "print(product_df.head())\n",
    "print(shipping_df.head())\n",
    "print(orders_df.head())"
   ]
  },
  {
   "cell_type": "code",
   "execution_count": 0,
   "metadata": {
    "colab": {},
    "colab_type": "code",
    "id": "wliZkHLrfut_"
   },
   "outputs": [],
   "source": [
    "# Merging the dataframes\n",
    "# Note that Cust_id is the common column/key, which is provided to the 'on' argument\n",
    "# how = 'inner' makes sure that only the customer ids present in both dfs are included in the result\n",
    "\n",
    "df_1 = pd.merge(market_df, customer_df, how='inner', on='Cust_id')\n",
    "df_1.head()"
   ]
  },
  {
   "cell_type": "code",
   "execution_count": 0,
   "metadata": {
    "colab": {},
    "colab_type": "code",
    "id": "Zz-PfJK0iEDe"
   },
   "outputs": [],
   "source": [
    "df_1.loc[df_1['Customer_Segment'] == 'CORPORATE', :].head()"
   ]
  },
  {
   "cell_type": "code",
   "execution_count": 0,
   "metadata": {
    "colab": {},
    "colab_type": "code",
    "id": "oGCIiksbiQV2"
   },
   "outputs": [],
   "source": [
    "# Select all orders from product category = office supplies and from the corporate segment\n",
    "df_2 = pd.merge(df_1, product_df, how=\"inner\", on=\"Prod_id\")\n",
    "df_2.head()\n",
    "df_2.loc[(df_2['Product_Category']=='OFFICE SUPPLIES') \n",
    "         & (df_2['Customer_Segment'] == 'CORPORATE'), :].head()"
   ]
  },
  {
   "cell_type": "code",
   "execution_count": 0,
   "metadata": {
    "colab": {},
    "colab_type": "code",
    "id": "jzlEbPk-jFZe"
   },
   "outputs": [],
   "source": [
    "# Merge with shipping and orders df\n",
    "df_3 = pd.merge(df_2, shipping_df, how=\"inner\", on=\"Ship_id\")\n",
    "df_3.head()\n",
    "\n",
    "master_df = pd.merge(df_3, orders_df, how=\"inner\", on=\"Ord_id\")\n",
    "print(master_df.shape)\n",
    "master_df.head()"
   ]
  },
  {
   "cell_type": "markdown",
   "metadata": {
    "colab_type": "text",
    "id": "7R93SYVCkRAm"
   },
   "source": [
    "#### Concatenation of DataFrames"
   ]
  },
  {
   "cell_type": "code",
   "execution_count": 0,
   "metadata": {
    "colab": {},
    "colab_type": "code",
    "id": "kY2mZkBAkUnm"
   },
   "outputs": [],
   "source": [
    "# DataFrames having same columns\n",
    "df_1 = pd.DataFrame({'Name': ['Aman', 'Jai','Rashmi','Saif'],\n",
    "                    'Age':['34','31','22','33'],\n",
    "                    'Gender':['M','M','F','M']})\n",
    "df_2 = pd.DataFrame({'Name': ['Akhil', 'Asha','Preeti'],\n",
    "                    'Age':['31','22','23'],\n",
    "                    'Gender':['M','F','F']})\n",
    "print(df_1.head())\n",
    "print(df_2.head())"
   ]
  },
  {
   "cell_type": "code",
   "execution_count": 0,
   "metadata": {
    "colab": {},
    "colab_type": "code",
    "id": "i8TXVeg5lAEO"
   },
   "outputs": [],
   "source": [
    "# To concatenate them, one on top of the other, you can use pd.concat\n",
    "# The first argument is a sequence (list) of dataframes\n",
    "# axis = 0 indicates that we want to concat along the row axis\n",
    "pd.concat([df_1, df_2], axis=0)"
   ]
  },
  {
   "cell_type": "code",
   "execution_count": 0,
   "metadata": {
    "colab": {},
    "colab_type": "code",
    "id": "Kq2EWjrKlfFR"
   },
   "outputs": [],
   "source": [
    "# An alternative to concat along the rows is the append() function\n",
    "df_1.append(df_2)"
   ]
  },
  {
   "cell_type": "markdown",
   "metadata": {
    "colab_type": "text",
    "id": "3vmE2fxDnSzW"
   },
   "source": [
    "### Grouping and Summarising"
   ]
  },
  {
   "cell_type": "code",
   "execution_count": 0,
   "metadata": {
    "colab": {},
    "colab_type": "code",
    "id": "XhgLXQ4gnze_"
   },
   "outputs": [],
   "source": [
    "market_df = pd.read_csv('/content/gdrive/My Drive/Colab Notebooks/Datasets/global_sales_data/market_fact.csv')\n",
    "customer_df = pd.read_csv('/content/gdrive/My Drive/Colab Notebooks/Datasets/global_sales_data/cust_dimen.csv')\n",
    "product_df = pd.read_csv('/content/gdrive/My Drive/Colab Notebooks/Datasets/global_sales_data/prod_dimen.csv')\n",
    "shipping_df = pd.read_csv('/content/gdrive/My Drive/Colab Notebooks/Datasets/global_sales_data/shipping_dimen.csv')\n",
    "orders_df = pd.read_csv('/content/gdrive/My Drive/Colab Notebooks/Datasets/global_sales_data/orders_dimen.csv')\n",
    "\n",
    "df_1 = pd.merge(market_df, customer_df, how='inner', on='Cust_id')\n",
    "df_2 = pd.merge(df_1, product_df, how=\"inner\", on=\"Prod_id\")\n",
    "df_3 = pd.merge(df_2, shipping_df, how=\"inner\", on=\"Ship_id\")\n",
    "master_df = pd.merge(df_3, orders_df, how=\"inner\", on=\"Ord_id\")\n",
    "print(master_df.shape)\n",
    "master_df.head()"
   ]
  },
  {
   "cell_type": "code",
   "execution_count": 0,
   "metadata": {
    "colab": {},
    "colab_type": "code",
    "id": "Dzw6IdI9oOYl"
   },
   "outputs": [],
   "source": [
    "# Which customer segments are the least profitable?\n",
    "\n",
    "# Step1: Grouping: First, we will group the dataframe by customer segments\n",
    "df_by_segment = master_df.groupby('Customer_Segment')\n",
    "df_by_segment"
   ]
  },
  {
   "cell_type": "code",
   "execution_count": 0,
   "metadata": {
    "colab": {},
    "colab_type": "code",
    "id": "eAOBOsfBohuP"
   },
   "outputs": [],
   "source": [
    "# Step2: Applying a function\n",
    "# We can choose aggregate functions such as sum, mean, median, etc.\n",
    "df_by_segment['Profit'].sum()\n",
    "\n",
    "# Equivalent to df_by_segment.Profit.sum()\n",
    "df_by_segment.Profit.sum().sort_values(ascending=False)"
   ]
  },
  {
   "cell_type": "code",
   "execution_count": 0,
   "metadata": {
    "colab": {},
    "colab_type": "code",
    "id": "vaHt0HTJpzu1"
   },
   "outputs": [],
   "source": [
    "pd.DataFrame(df_by_segment['Profit'].sum())"
   ]
  },
  {
   "cell_type": "code",
   "execution_count": 0,
   "metadata": {
    "colab": {},
    "colab_type": "code",
    "id": "b7ineHseqKU-"
   },
   "outputs": [],
   "source": [
    "# Ex: Which product categories are the least profitable?\n",
    "\n",
    "# 1. Group by product category\n",
    "by_product_cat = master_df.groupby('Product_Category')"
   ]
  },
  {
   "cell_type": "code",
   "execution_count": 0,
   "metadata": {
    "colab": {},
    "colab_type": "code",
    "id": "8JckU8PBqbFd"
   },
   "outputs": [],
   "source": [
    "# 2. This time, let's compare average profits\n",
    "# Apply mean() on profit\n",
    "by_product_cat['Profit'].mean().sort_values()"
   ]
  },
  {
   "cell_type": "code",
   "execution_count": 0,
   "metadata": {
    "colab": {},
    "colab_type": "code",
    "id": "qD_4ohYPq4yP"
   },
   "outputs": [],
   "source": [
    "# Which product categories and product subcategories are least profitable?\n",
    "by_product_cat_subcat = master_df.groupby(['Product_Category','Product_Sub_Category'])\n",
    "by_product_cat_subcat['Profit'].mean().sort_values()"
   ]
  },
  {
   "cell_type": "code",
   "execution_count": 0,
   "metadata": {
    "colab": {},
    "colab_type": "code",
    "id": "hLrHANRNrm4R"
   },
   "outputs": [],
   "source": [
    "by_product_cat['Profit'].describe()"
   ]
  },
  {
   "cell_type": "code",
   "execution_count": 0,
   "metadata": {
    "colab": {},
    "colab_type": "code",
    "id": "LOf0vxzEr2zi"
   },
   "outputs": [],
   "source": [
    "# Calculate sales across each region as a perentange of total sales\n",
    "100 * (master_df.groupby('Region').Sales.sum() / sum(master_df['Sales']))"
   ]
  },
  {
   "cell_type": "markdown",
   "metadata": {
    "colab_type": "text",
    "id": "GCSCiygwuE09"
   },
   "source": [
    "### Lambda functions"
   ]
  },
  {
   "cell_type": "code",
   "execution_count": 0,
   "metadata": {
    "colab": {},
    "colab_type": "code",
    "id": "IupOgseQuJLN"
   },
   "outputs": [],
   "source": [
    "# Create a column 'is_profitable' which has values on following logic: if Profit > 0 then 1 else 0\n",
    "\n",
    "def is_positive(x):\n",
    "  return x > 0\n",
    "\n",
    "master_df['is_profitable'] = master_df['Profit'].apply(is_positive)\n",
    "master_df.head()\n",
    "\n"
   ]
  },
  {
   "cell_type": "code",
   "execution_count": 0,
   "metadata": {
    "colab": {},
    "colab_type": "code",
    "id": "0KAt5UKPu8FI"
   },
   "outputs": [],
   "source": [
    "# ALternative using lambda function\n",
    "master_df['is_profitable'] = master_df['Profit'].apply(lambda x: x>0)\n",
    "master_df.head()"
   ]
  },
  {
   "cell_type": "code",
   "execution_count": 0,
   "metadata": {
    "colab": {},
    "colab_type": "code",
    "id": "hQI1AD4mv0Sv"
   },
   "outputs": [],
   "source": [
    "# Comparing percentage of profit across customer segments\n",
    "master_df.groupby('Customer_Segment').is_profitable.mean().sort_values()"
   ]
  },
  {
   "cell_type": "code",
   "execution_count": 0,
   "metadata": {
    "colab": {},
    "colab_type": "code",
    "id": "QJHwaIoxwVw1"
   },
   "outputs": [],
   "source": [
    "# Comparing percentage of profit across product categories\n",
    "master_df.groupby('Product_Category').is_profitable.mean().sort_values()"
   ]
  },
  {
   "cell_type": "code",
   "execution_count": 0,
   "metadata": {
    "colab": {},
    "colab_type": "code",
    "id": "tcAGlHggwlK3"
   },
   "outputs": [],
   "source": [
    "# Create a column 'profit_per_qty' using Profit/Order_Quantity columns\n",
    "master_df['profit_per_qty'] = master_df['Profit'] / master_df['Order_Quantity']\n",
    "master_df.head()"
   ]
  },
  {
   "cell_type": "markdown",
   "metadata": {
    "colab_type": "text",
    "id": "F_Mb9-wnx4DV"
   },
   "source": [
    "### Pivot tables"
   ]
  },
  {
   "cell_type": "code",
   "execution_count": 0,
   "metadata": {
    "colab": {},
    "colab_type": "code",
    "id": "16A1BC1ix6X1"
   },
   "outputs": [],
   "source": [
    "help(pd.DataFrame.pivot_table)"
   ]
  },
  {
   "cell_type": "code",
   "execution_count": 0,
   "metadata": {
    "colab": {},
    "colab_type": "code",
    "id": "dibXDmRxyUlv"
   },
   "outputs": [],
   "source": [
    "master_df.pivot_table(values='Sales',index='Customer_Segment',aggfunc='mean')"
   ]
  },
  {
   "cell_type": "code",
   "execution_count": 0,
   "metadata": {
    "colab": {},
    "colab_type": "code",
    "id": "Ef1wPrzlywtX"
   },
   "outputs": [],
   "source": [
    "master_df.pivot_table(values='is_profitable',index='Region', aggfunc='sum')"
   ]
  },
  {
   "cell_type": "code",
   "execution_count": 0,
   "metadata": {
    "colab": {},
    "colab_type": "code",
    "id": "N1jk7rAuzW4W"
   },
   "outputs": [],
   "source": [
    "# Grouping by both rows and columns\n",
    "# Compare the total profit across product categories and customer segments\n",
    "# since there are 2 categorical variables, we use both rows and columns\n",
    "\n",
    "master_df.pivot_table(values='Profit',\n",
    "                     index='Product_Category',\n",
    "                     columns='Customer_Segment',\n",
    "                     aggfunc='sum')"
   ]
  },
  {
   "cell_type": "code",
   "execution_count": 0,
   "metadata": {
    "colab": {},
    "colab_type": "code",
    "id": "60HWzRKO0ADO"
   },
   "outputs": [],
   "source": [
    "# Compute the mean of all numeric columns across Product categories\n",
    "\n",
    "master_df.pivot_table(columns='Product_Category')"
   ]
  }
 ],
 "metadata": {
  "colab": {
   "name": "3. Intro to Pandas.ipynb",
   "private_outputs": true,
   "provenance": [],
   "toc_visible": true,
   "version": "0.3.2"
  },
  "kernelspec": {
   "display_name": "Python 3",
   "language": "python",
   "name": "python3"
  },
  "language_info": {
   "codemirror_mode": {
    "name": "ipython",
    "version": 3
   },
   "file_extension": ".py",
   "mimetype": "text/x-python",
   "name": "python",
   "nbconvert_exporter": "python",
   "pygments_lexer": "ipython3",
   "version": "3.7.1"
  }
 },
 "nbformat": 4,
 "nbformat_minor": 1
}
