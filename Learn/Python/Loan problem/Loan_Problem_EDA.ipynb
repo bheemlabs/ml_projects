{
  "nbformat": 4,
  "nbformat_minor": 0,
  "metadata": {
    "colab": {
      "name": "Loan_Problem_EDA.ipynb",
      "version": "0.3.2",
      "provenance": [],
      "private_outputs": true,
      "collapsed_sections": [],
      "toc_visible": true
    },
    "kernelspec": {
      "name": "python3",
      "display_name": "Python 3"
    }
  },
  "cells": [
    {
      "metadata": {
        "id": "Jjgbb-RypLHv",
        "colab_type": "text"
      },
      "cell_type": "markdown",
      "source": [
        "# EDA on Loan problem of minimising defaulters"
      ]
    },
    {
      "metadata": {
        "id": "oixrlHBUpR7n",
        "colab_type": "text"
      },
      "cell_type": "markdown",
      "source": [
        "## Basic setup"
      ]
    },
    {
      "metadata": {
        "id": "urw88m8Ao6dW",
        "colab_type": "code",
        "colab": {}
      },
      "cell_type": "code",
      "source": [
        "# Load libraries\n",
        "# import numpy as np\n",
        "# import pandas as pd\n",
        "# import matplotlib.pyplot as plt\n",
        "# import seaborn as sns"
      ],
      "execution_count": 0,
      "outputs": []
    },
    {
      "metadata": {
        "id": "gvxwednmpa5_",
        "colab_type": "text"
      },
      "cell_type": "markdown",
      "source": [
        "### Mounting GDrive locally\n"
      ]
    },
    {
      "metadata": {
        "id": "GvPl5Na1peJX",
        "colab_type": "code",
        "colab": {}
      },
      "cell_type": "code",
      "source": [
        "# from google.colab import drive\n",
        "# drive.mount('/content/gdrive')"
      ],
      "execution_count": 0,
      "outputs": []
    },
    {
      "metadata": {
        "id": "6DnpJoJDpU6_",
        "colab_type": "code",
        "colab": {}
      },
      "cell_type": "code",
      "source": [
        "# Load the data\n",
        "df = pd.read_csv('/content/gdrive/My Drive/Colab Notebooks/Practice/Loan problem/loan.csv')\n",
        "df.head()"
      ],
      "execution_count": 0,
      "outputs": []
    },
    {
      "metadata": {
        "id": "U_2Mrn0JqqpH",
        "colab_type": "code",
        "colab": {}
      },
      "cell_type": "code",
      "source": [
        "df.info()"
      ],
      "execution_count": 0,
      "outputs": []
    },
    {
      "metadata": {
        "id": "zLCEZcCOqx2m",
        "colab_type": "code",
        "colab": {}
      },
      "cell_type": "code",
      "source": [
        "df.describe()"
      ],
      "execution_count": 0,
      "outputs": []
    },
    {
      "metadata": {
        "id": "qJGfoUX0174e",
        "colab_type": "code",
        "colab": {}
      },
      "cell_type": "code",
      "source": [
        "# Remove id columns as we don't required them\n",
        "df = df.drop('id', axis=1)\n",
        "df = df.drop('member_id', axis=1)"
      ],
      "execution_count": 0,
      "outputs": []
    },
    {
      "metadata": {
        "id": "TpQKUvIbwT7O",
        "colab_type": "code",
        "colab": {}
      },
      "cell_type": "code",
      "source": [
        "def missing_values_percent(df_param):\n",
        "  print(100*round(df_param.isnull().sum()/len(df_param.index),2))"
      ],
      "execution_count": 0,
      "outputs": []
    },
    {
      "metadata": {
        "id": "_OxrclxdrATX",
        "colab_type": "code",
        "colab": {}
      },
      "cell_type": "code",
      "source": [
        "missing_values_percent(df)"
      ],
      "execution_count": 0,
      "outputs": []
    },
    {
      "metadata": {
        "id": "tIZBMawWs7UY",
        "colab_type": "code",
        "colab": {}
      },
      "cell_type": "code",
      "source": [
        "# drop columns with more than 30% missing values\n",
        "threshold = len(df.index)*0.3\n",
        "df_cleaned = df.dropna(axis=1, thresh=threshold)\n",
        "missing_values_percent(df_cleaned)"
      ],
      "execution_count": 0,
      "outputs": []
    },
    {
      "metadata": {
        "id": "hPXTNVAGyk4G",
        "colab_type": "code",
        "colab": {}
      },
      "cell_type": "code",
      "source": [
        "df_cleaned = df_cleaned.drop('desc', axis=1)\n",
        "df_cleaned = df_cleaned.drop('mths_since_last_delinq', axis=1)\n",
        "missing_values_percent(df_cleaned)"
      ],
      "execution_count": 0,
      "outputs": []
    },
    {
      "metadata": {
        "id": "sBH-fxre2602",
        "colab_type": "code",
        "colab": {}
      },
      "cell_type": "code",
      "source": [
        "# rows with more than 5 missing values\n",
        "df_cleaned[df_cleaned.isnull().sum(axis=1)>5] # 0 rows"
      ],
      "execution_count": 0,
      "outputs": []
    },
    {
      "metadata": {
        "id": "x8F4fCNj3fdl",
        "colab_type": "code",
        "colab": {}
      },
      "cell_type": "code",
      "source": [
        "# drop rows with any NA values\n",
        "df_cleaned  = df_cleaned.dropna(axis=0)\n",
        "missing_values_percent(df_cleaned)"
      ],
      "execution_count": 0,
      "outputs": []
    },
    {
      "metadata": {
        "id": "2kpyrFNP3_gF",
        "colab_type": "code",
        "colab": {}
      },
      "cell_type": "code",
      "source": [
        "df_cleaned.info()"
      ],
      "execution_count": 0,
      "outputs": []
    },
    {
      "metadata": {
        "id": "1J6FY9Jx4dqm",
        "colab_type": "code",
        "colab": {}
      },
      "cell_type": "code",
      "source": [
        "df_cleaned.loc[:, df_cleaned.dtypes==object].head()"
      ],
      "execution_count": 0,
      "outputs": []
    },
    {
      "metadata": {
        "id": "QmEJh14p6I6t",
        "colab_type": "code",
        "colab": {}
      },
      "cell_type": "code",
      "source": [
        "def format_datetime_columns(df_param, col_name):\n",
        "  df_param[col_name] = df_param[col_name].apply(lambda x: '01-'+x)\n",
        "  df_param[col_name] = pd.to_datetime(df_param[col_name], format='%d-%b-%y')"
      ],
      "execution_count": 0,
      "outputs": []
    },
    {
      "metadata": {
        "id": "bd8sOMSM-Gvd",
        "colab_type": "code",
        "colab": {}
      },
      "cell_type": "code",
      "source": [
        "format_datetime_columns(df_cleaned, 'issue_d')\n",
        "format_datetime_columns(df_cleaned, 'earliest_cr_line')\n",
        "format_datetime_columns(df_cleaned, 'last_pymnt_d')\n",
        "format_datetime_columns(df_cleaned, 'last_credit_pull_d')"
      ],
      "execution_count": 0,
      "outputs": []
    },
    {
      "metadata": {
        "id": "WS32B3xu-erV",
        "colab_type": "code",
        "colab": {}
      },
      "cell_type": "code",
      "source": [
        "df_cleaned.loc[:, df_cleaned.dtypes==object].head()"
      ],
      "execution_count": 0,
      "outputs": []
    },
    {
      "metadata": {
        "id": "nMq10yGg-ljl",
        "colab_type": "code",
        "colab": {}
      },
      "cell_type": "code",
      "source": [
        "def remove_suffix_from_columns(df_param, col_name, suffix_to_remove, is_numeric = False):\n",
        "  new_col_name=col_name+'_in_'+suffix_to_remove\n",
        "  df_param[new_col_name] = df_param[col_name].str.rstrip(suffix_to_remove)\n",
        "  if is_numeric:\n",
        "    df_param[new_col_name] = pd.to_numeric(df_param[new_col_name])\n",
        "  df_param.drop(col_name, axis=1, inplace=True)"
      ],
      "execution_count": 0,
      "outputs": []
    },
    {
      "metadata": {
        "id": "FgSOfkWC_Ivs",
        "colab_type": "code",
        "colab": {}
      },
      "cell_type": "code",
      "source": [
        "remove_suffix_from_columns(df_cleaned, 'term', ' months', is_numeric=True)\n",
        "remove_suffix_from_columns(df_cleaned, 'int_rate', '%', is_numeric=True)\n",
        "remove_suffix_from_columns(df_cleaned, 'revol_util', '%', is_numeric=True)"
      ],
      "execution_count": 0,
      "outputs": []
    },
    {
      "metadata": {
        "id": "HG3Gcja9_d1d",
        "colab_type": "code",
        "colab": {}
      },
      "cell_type": "code",
      "source": [
        "df_cleaned.loc[:, df_cleaned.dtypes==object].head()"
      ],
      "execution_count": 0,
      "outputs": []
    },
    {
      "metadata": {
        "id": "appXIGMkBS0O",
        "colab_type": "code",
        "colab": {}
      },
      "cell_type": "code",
      "source": [
        "# Fix emp_length column\n",
        "df_cleaned['emp_length'] = df_cleaned['emp_length'].str.replace('years', 'year')\n",
        "df_cleaned['emp_length'] = df_cleaned['emp_length'].str.replace(' year', '')\n",
        "df_cleaned['emp_length'] = df_cleaned['emp_length'].str.replace('\\\\< 1', '-1')\n",
        "df_cleaned['emp_length'] = df_cleaned['emp_length'].str.replace('10\\\\+', '100')\n",
        "df_cleaned['emp_length'] = pd.to_numeric(df_cleaned['emp_length'])"
      ],
      "execution_count": 0,
      "outputs": []
    },
    {
      "metadata": {
        "id": "_IzXL8zZIAru",
        "colab_type": "code",
        "colab": {}
      },
      "cell_type": "code",
      "source": [
        "df_cleaned.loc[:, df_cleaned.dtypes==object].head()"
      ],
      "execution_count": 0,
      "outputs": []
    },
    {
      "metadata": {
        "id": "qNxl4b1iJrG8",
        "colab_type": "code",
        "colab": {}
      },
      "cell_type": "code",
      "source": [
        "# drop sub_grade column \n",
        "df_cleaned = df_cleaned.drop('sub_grade', axis=1)"
      ],
      "execution_count": 0,
      "outputs": []
    },
    {
      "metadata": {
        "id": "nX7UXDrJfPGi",
        "colab_type": "code",
        "colab": {}
      },
      "cell_type": "code",
      "source": [
        "df_cleaned.loc[:, df_cleaned.dtypes==object].head()"
      ],
      "execution_count": 0,
      "outputs": []
    },
    {
      "metadata": {
        "id": "y2-u9f_xfd9J",
        "colab_type": "code",
        "colab": {}
      },
      "cell_type": "code",
      "source": [
        "# check url column relevancy\n",
        "df_cleaned['url'][1] # 'https://lendingclub.com/browse/loanDetail.action?loan_id=1077430'\n"
      ],
      "execution_count": 0,
      "outputs": []
    },
    {
      "metadata": {
        "id": "QTSAoMQyg5jA",
        "colab_type": "code",
        "colab": {}
      },
      "cell_type": "code",
      "source": [
        "# Since url contians only Loan id, we can drop the url column\n",
        "df_cleaned = df_cleaned.drop('url', axis=1)"
      ],
      "execution_count": 0,
      "outputs": []
    },
    {
      "metadata": {
        "id": "2r7mJi5sggmQ",
        "colab_type": "code",
        "colab": {}
      },
      "cell_type": "code",
      "source": [
        "df_cleaned.loc[:, df_cleaned.dtypes==object].head()"
      ],
      "execution_count": 0,
      "outputs": []
    },
    {
      "metadata": {
        "id": "Fqr3VXmhgmLo",
        "colab_type": "code",
        "colab": {}
      },
      "cell_type": "code",
      "source": [
        "# convert all strings to lowercase for object columns\n",
        "str_columns = ['grade','emp_title','home_ownership','verification_status','loan_status','pymnt_plan','purpose','title','zip_code','addr_state','initial_list_status','application_type']\n",
        "df_cleaned[str_columns] = df_cleaned[str_columns].apply(lambda x: x.astype(str).str.lower())\n",
        "df_cleaned.loc[:, df_cleaned.dtypes==object].head()"
      ],
      "execution_count": 0,
      "outputs": []
    },
    {
      "metadata": {
        "id": "gTxwQDNzi5Lx",
        "colab_type": "code",
        "colab": {}
      },
      "cell_type": "code",
      "source": [
        "# check unique values for each column\n",
        "print(df_cleaned['grade'].value_counts())\n",
        "print(df_cleaned['emp_title'].value_counts())\n",
        "print(df_cleaned['home_ownership'].value_counts())\n",
        "print(df_cleaned['verification_status'].value_counts())\n",
        "print(df_cleaned['loan_status'].value_counts())\n",
        "print(df_cleaned['pymnt_plan'].value_counts())\n",
        "print(df_cleaned['purpose'].value_counts())\n",
        "print(df_cleaned['title'].value_counts())\n",
        "print(df_cleaned['zip_code'].value_counts())\n",
        "print(df_cleaned['addr_state'].value_counts())\n",
        "print(df_cleaned['initial_list_status'].value_counts())\n",
        "print(df_cleaned['application_type'].value_counts())"
      ],
      "execution_count": 0,
      "outputs": []
    },
    {
      "metadata": {
        "id": "1lcFA8aHkIfw",
        "colab_type": "code",
        "colab": {}
      },
      "cell_type": "code",
      "source": [
        "# drop emp_title as variation is high\n",
        "# drop pymnt_plan all values = 'n'\n",
        "# drop title as variation is high\n",
        "# drop initial_list_status all values = 'f'\n",
        "# drop application_type all values = 'individual'\n",
        "\n",
        "df_cleaned = df_cleaned.drop(['emp_title','pymnt_plan','title','zip_code','addr_state','initial_list_status','application_type'], axis=1)"
      ],
      "execution_count": 0,
      "outputs": []
    },
    {
      "metadata": {
        "id": "SD8_Mz0ok4EQ",
        "colab_type": "code",
        "colab": {}
      },
      "cell_type": "code",
      "source": [
        "df_cleaned.loc[:, df_cleaned.dtypes==object].head()"
      ],
      "execution_count": 0,
      "outputs": []
    },
    {
      "metadata": {
        "id": "JcfcPCIOmth4",
        "colab_type": "code",
        "colab": {}
      },
      "cell_type": "code",
      "source": [
        "# Since we want to consider entries only if it 'charged_off' or 'fully paid', remove rows with 'current' as loan_status\n",
        "df_cleaned = df_cleaned[df_cleaned['loan_status'] != 'current']\n",
        "df_cleaned.info()"
      ],
      "execution_count": 0,
      "outputs": []
    }
  ]
}