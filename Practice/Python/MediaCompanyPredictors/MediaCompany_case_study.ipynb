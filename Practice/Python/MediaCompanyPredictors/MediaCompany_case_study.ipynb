{
 "cells": [
  {
   "cell_type": "markdown",
   "metadata": {
    "colab_type": "text",
    "id": "awaW866-KrnA"
   },
   "source": [
    "# Problem statement\n",
    "Media company wants to know important predictors behind the viewership for show. We've performed LinearRegression to predict the predictors for target variable. "
   ]
  },
  {
   "cell_type": "code",
   "execution_count": 0,
   "metadata": {
    "cellView": "both",
    "colab": {},
    "colab_type": "code",
    "id": "41ASppFV8FHc"
   },
   "outputs": [],
   "source": [
    "#@title\n",
    "from google.colab import files\n",
    "\n",
    "uploaded = files.upload()\n",
    "\n",
    "for fn in uploaded.keys():\n",
    "  print('User uploaded file \"{name}\" with length {length} bytes'.format(\n",
    "      name=fn, length=len(uploaded[fn])))"
   ]
  },
  {
   "cell_type": "code",
   "execution_count": 0,
   "metadata": {
    "cellView": "both",
    "colab": {},
    "colab_type": "code",
    "id": "BdWjAsDd8hlE"
   },
   "outputs": [],
   "source": [
    "#@title\n",
    "for fn in uploaded.keys():\n",
    "  filename = fn\n",
    "  break\n",
    "\n",
    "print (filename)"
   ]
  },
  {
   "cell_type": "code",
   "execution_count": 0,
   "metadata": {
    "colab": {},
    "colab_type": "code",
    "id": "nfeqkWdXAHQc"
   },
   "outputs": [],
   "source": [
    "# Import libraries\n",
    "import pandas as pd\n",
    "import numpy as np\n",
    "import matplotlib.pyplot as plt\n",
    "import seaborn as sns\n",
    "\n",
    "sns.set(style=\"white\")"
   ]
  },
  {
   "cell_type": "code",
   "execution_count": 0,
   "metadata": {
    "colab": {},
    "colab_type": "code",
    "id": "ONvreaTm8VQ0"
   },
   "outputs": [],
   "source": [
    "media_df = pd.read_csv(filename)\n",
    "\n",
    "media_df = media_df.drop('Unnamed: 7', axis=1)\n",
    "media_df.head()"
   ]
  },
  {
   "cell_type": "code",
   "execution_count": 0,
   "metadata": {
    "colab": {},
    "colab_type": "code",
    "id": "5sXgSxK6_Ql8"
   },
   "outputs": [],
   "source": [
    "media_df.describe()"
   ]
  },
  {
   "cell_type": "code",
   "execution_count": 0,
   "metadata": {
    "colab": {},
    "colab_type": "code",
    "id": "fvG29aIqAngU"
   },
   "outputs": [],
   "source": [
    "media_df.info()"
   ]
  },
  {
   "cell_type": "code",
   "execution_count": 0,
   "metadata": {
    "colab": {},
    "colab_type": "code",
    "id": "jM7jTP3E_TxM"
   },
   "outputs": [],
   "source": [
    "media_df.isnull().sum() #None missing values"
   ]
  },
  {
   "cell_type": "code",
   "execution_count": 0,
   "metadata": {
    "colab": {},
    "colab_type": "code",
    "id": "3usPn2bTAq6b"
   },
   "outputs": [],
   "source": [
    "media_df['Date'] = pd.to_datetime(media_df['Date'])\n",
    "media_df.info()"
   ]
  },
  {
   "cell_type": "code",
   "execution_count": 0,
   "metadata": {
    "colab": {},
    "colab_type": "code",
    "id": "uUN_DRpgBXPb"
   },
   "outputs": [],
   "source": [
    "media_df['Date'].describe()"
   ]
  },
  {
   "cell_type": "markdown",
   "metadata": {
    "colab_type": "text",
    "id": "P67AG_ti_3As"
   },
   "source": [
    "# EDA"
   ]
  },
  {
   "cell_type": "code",
   "execution_count": 0,
   "metadata": {
    "colab": {},
    "colab_type": "code",
    "id": "qPUPKupwCcF0"
   },
   "outputs": [],
   "source": [
    "df = media_df.groupby('Date')['Views_show'].sum()\n",
    "df.head()"
   ]
  },
  {
   "cell_type": "code",
   "execution_count": 0,
   "metadata": {
    "colab": {},
    "colab_type": "code",
    "id": "SfF4GH0r_yK2"
   },
   "outputs": [],
   "source": [
    "# Plot \"Views_Show\" on timeseries plot\n",
    "sns.tsplot(data=df)\n",
    "plt.xlabel('Date')\n",
    "plt.ylabel('Views_Show')\n",
    "plt.show()"
   ]
  },
  {
   "cell_type": "code",
   "execution_count": 0,
   "metadata": {
    "colab": {},
    "colab_type": "code",
    "id": "uFgIxcxJGtwr"
   },
   "outputs": [],
   "source": [
    "df = media_df.groupby('Date').agg({'Views_show':'sum','Ad_impression':'sum'}).reset_index()\n",
    "print(df.head())\n",
    "print(type(df))\n",
    "print(df.columns)"
   ]
  },
  {
   "cell_type": "code",
   "execution_count": 0,
   "metadata": {
    "colab": {},
    "colab_type": "code",
    "id": "QLiUp7PBG0cV"
   },
   "outputs": [],
   "source": [
    "ax = df.plot(x='Date',y='Views_show',legend=False)\n",
    "ax2=ax.twinx()\n",
    "df.plot(x='Date',y='Ad_impression',ax=ax2,legend=False,color='r')\n",
    "ax.figure.legend()\n",
    "plt.show()"
   ]
  },
  {
   "cell_type": "code",
   "execution_count": 0,
   "metadata": {
    "colab": {},
    "colab_type": "code",
    "id": "pJO3JUewYvox"
   },
   "outputs": [],
   "source": [
    "sns.pairplot(media_df)"
   ]
  },
  {
   "cell_type": "code",
   "execution_count": 0,
   "metadata": {
    "colab": {},
    "colab_type": "code",
    "id": "j3lCyRhtd66H"
   },
   "outputs": [],
   "source": [
    "# Derive Weekday,Weekend from Date\n",
    "media_df['Weekday'] = media_df['Date'].map(lambda x:x.weekday()) # weekday => Mon == 0 and Sun=6\n",
    "def is_weekend(dayNum):\n",
    "  if (dayNum == 5) | (dayNum == 6):\n",
    "    return 1\n",
    "  return 0\n",
    "media_df['Weekend'] = media_df['Weekday'].map(lambda x: is_weekend(x))\n",
    "media_df.describe()"
   ]
  },
  {
   "cell_type": "code",
   "execution_count": 0,
   "metadata": {
    "colab": {},
    "colab_type": "code",
    "id": "HhfDyJwdZ9P4"
   },
   "outputs": [],
   "source": [
    "# Derive Days from Date\n",
    "from datetime import date\n",
    "\n",
    "\n",
    "d0 = date(2017,2,28)\n",
    "media_df['Days'] = media_df['Date'] - d0\n",
    "media_df.head()"
   ]
  },
  {
   "cell_type": "code",
   "execution_count": 0,
   "metadata": {
    "colab": {},
    "colab_type": "code",
    "id": "PXZMQW_zao5g"
   },
   "outputs": [],
   "source": [
    "media_df.info()"
   ]
  },
  {
   "cell_type": "code",
   "execution_count": 0,
   "metadata": {
    "colab": {},
    "colab_type": "code",
    "id": "8KsyGlCeax6Q"
   },
   "outputs": [],
   "source": [
    "# convert days column into string and extract number from column\n",
    "media_df['Days'] = media_df['Days'].astype(str)\n",
    "media_df['Days'] = media_df['Days'].map(lambda x: x.split(' days')[0])\n",
    "media_df['Days'] = media_df['Days'].astype(int)\n",
    "media_df.describe()"
   ]
  },
  {
   "cell_type": "code",
   "execution_count": 0,
   "metadata": {
    "colab": {},
    "colab_type": "code",
    "id": "UPDC4T9rcxJf"
   },
   "outputs": [],
   "source": [
    "media_df.describe()"
   ]
  },
  {
   "cell_type": "code",
   "execution_count": 0,
   "metadata": {
    "colab": {},
    "colab_type": "code",
    "id": "-aksIMW821L9"
   },
   "outputs": [],
   "source": [
    "million = 1000000\n",
    "billion = million*1000\n",
    "media_df['Visitors_million'] = media_df['Visitors']/million\n",
    "media_df['Views_platform_million'] = media_df['Views_platform']/million\n",
    "media_df['Ad_impression_billion'] = media_df['Ad_impression']/billion\n",
    "media_df.describe()"
   ]
  },
  {
   "cell_type": "markdown",
   "metadata": {
    "colab_type": "text",
    "id": "ntk5KgSI_09T"
   },
   "source": [
    "# Perform Linear Regression"
   ]
  },
  {
   "cell_type": "code",
   "execution_count": 0,
   "metadata": {
    "colab": {},
    "colab_type": "code",
    "id": "l-jwch6ZCMpj"
   },
   "outputs": [],
   "source": [
    "from sklearn.model_selection import train_test_split\n",
    "from sklearn.linear_model import LinearRegression\n",
    "from sklearn.metrics import r2_score\n",
    "import statsmodels.api as sm"
   ]
  },
  {
   "cell_type": "code",
   "execution_count": 0,
   "metadata": {
    "colab": {},
    "colab_type": "code",
    "id": "rPfoNQ1oCdBU"
   },
   "outputs": [],
   "source": [
    "def build_evaluate_model(X_param, y_param, random_state_param):\n",
    "  X_train, X_test, y_train, y_test = train_test_split(X_param, y_param, train_size=0.7, random_state=random_state_param)\n",
    "  \n",
    "  # Model object\n",
    "  lr = LinearRegression()\n",
    "  \n",
    "  # Fit model\n",
    "  lr.fit(X_train, y_train)\n",
    "  print('Model intercept:', lr.intercept_)\n",
    "  print('Model coefs: ', lr.coef_)\n",
    "  \n",
    "  # Predict using model\n",
    "  y_pred = lr.predict(X_test)\n",
    "  \n",
    "  # Evaluation\n",
    "  r_squared = r2_score(y_test, y_pred)\n",
    "  print('R_Squared: ', r_squared)\n",
    "  \n",
    "  # Plot Actual vs Predict\n",
    "  c = [i for i in range(0,len(y_test),1)]\n",
    "  plt.plot(c, y_test, color='r')\n",
    "  plt.plot(c, y_pred, color='g')\n",
    "  plt.title('Actual vs prediction')\n",
    "  plt.ylabel('Target var')\n",
    "  plt.show()\n",
    "  \n",
    "  # Plot error term\n",
    "  plt.plot(c, y_test-y_pred, color='r')\n",
    "  plt.title('Plotting error term')\n",
    "  plt.ylabel(\"Error term\")\n",
    "  plt.show()\n",
    "  \n",
    "  # Plot heatmap between variables\n",
    "  sns.heatmap((pd.concat([X_param,y_param],axis=1)).corr(), annot=True)\n",
    "  plt.show()\n",
    "  \n",
    "  # Check p-value\n",
    "  X_train_sm = X_train\n",
    "  X_train_sm = sm.add_constant(X_train_sm)\n",
    "  lr_1 = sm.OLS(y_train, X_train_sm).fit()\n",
    "  print(lr_1.summary())\n",
    "  "
   ]
  },
  {
   "cell_type": "code",
   "execution_count": 0,
   "metadata": {
    "colab": {},
    "colab_type": "code",
    "id": "f7La4xlOF5mD"
   },
   "outputs": [],
   "source": [
    "X = media_df[['Visitors_million', 'Views_platform_million','Ad_impression_billion','Cricket_match_india','Character_A','Weekday', 'Weekend','Days']]\n",
    "y = media_df[['Views_show']]\n",
    "\n",
    "build_evaluate_model(X,y,random_state_param=10)"
   ]
  },
  {
   "cell_type": "code",
   "execution_count": 0,
   "metadata": {
    "colab": {},
    "colab_type": "code",
    "id": "7y-q_SheGsv7"
   },
   "outputs": [],
   "source": [
    "X = media_df[['Views_platform_million','Ad_impression_billion','Cricket_match_india','Character_A','Weekday', 'Weekend','Days']]\n",
    "y = media_df[['Views_show']]\n",
    "\n",
    "build_evaluate_model(X,y,random_state_param=10)"
   ]
  },
  {
   "cell_type": "code",
   "execution_count": 0,
   "metadata": {
    "colab": {},
    "colab_type": "code",
    "id": "t3T5XuBPKE7z"
   },
   "outputs": [],
   "source": [
    "X = media_df[['Views_platform_million','Ad_impression_billion','Cricket_match_india','Character_A', 'Weekend','Days']]\n",
    "y = media_df[['Views_show']]\n",
    "\n",
    "build_evaluate_model(X,y,random_state_param=10)"
   ]
  },
  {
   "cell_type": "code",
   "execution_count": 0,
   "metadata": {
    "colab": {},
    "colab_type": "code",
    "id": "hTLrqwqYKdDq"
   },
   "outputs": [],
   "source": [
    "X = media_df[['Views_platform_million','Cricket_match_india','Character_A','Weekend','Days']]\n",
    "y = media_df[['Views_show']]\n",
    "\n",
    "build_evaluate_model(X,y,random_state_param=10)"
   ]
  },
  {
   "cell_type": "code",
   "execution_count": 0,
   "metadata": {
    "colab": {},
    "colab_type": "code",
    "id": "21kMI8r8KtOb"
   },
   "outputs": [],
   "source": [
    "X = media_df[['Views_platform_million','Ad_impression_billion','Character_A','Weekend','Days']]\n",
    "y = media_df[['Views_show']]\n",
    "\n",
    "build_evaluate_model(X,y,random_state_param=10)"
   ]
  },
  {
   "cell_type": "code",
   "execution_count": 0,
   "metadata": {
    "colab": {},
    "colab_type": "code",
    "id": "-lKN_SRlLCVa"
   },
   "outputs": [],
   "source": [
    "X = media_df[['Views_platform_million','Ad_impression_billion','Character_A','Days']]\n",
    "y = media_df[['Views_show']]\n",
    "\n",
    "build_evaluate_model(X,y,random_state_param=10)"
   ]
  },
  {
   "cell_type": "code",
   "execution_count": 0,
   "metadata": {
    "colab": {},
    "colab_type": "code",
    "id": "kxcofQwkHWYS"
   },
   "outputs": [],
   "source": [
    "help(date)"
   ]
  },
  {
   "cell_type": "code",
   "execution_count": 0,
   "metadata": {
    "colab": {},
    "colab_type": "code",
    "id": "Hhy4tJZvIbsp"
   },
   "outputs": [],
   "source": [
    "media_df['Weeknumber'] = media_df['Date'].dt.week\n",
    "media_df.head(10)"
   ]
  },
  {
   "cell_type": "code",
   "execution_count": 0,
   "metadata": {
    "colab": {},
    "colab_type": "code",
    "id": "DeSNUBptG4J5"
   },
   "outputs": [],
   "source": [
    "media_df.groupby('Weeknumber')['Ad_impression_billion','Views_platform_million'].sum()\n",
    "# We can see here that Best 'Ad_impression_billion' was in Week 14 and then it has decreased to almost half in Week 20. \n",
    "# So if we increase our 'Ad_impression_billion' again, we'll see rise in \"Views_show\" (dependent variable)"
   ]
  }
 ],
 "metadata": {
  "colab": {
   "name": "MediaCompany_case_study.ipynb",
   "private_outputs": true,
   "provenance": [],
   "version": "0.3.2"
  },
  "kernelspec": {
   "display_name": "Python 3",
   "language": "python",
   "name": "python3"
  },
  "language_info": {
   "codemirror_mode": {
    "name": "ipython",
    "version": 3
   },
   "file_extension": ".py",
   "mimetype": "text/x-python",
   "name": "python",
   "nbconvert_exporter": "python",
   "pygments_lexer": "ipython3",
   "version": "3.6.5"
  }
 },
 "nbformat": 4,
 "nbformat_minor": 1
}
